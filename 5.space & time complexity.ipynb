{
 "cells": [
  {
   "cell_type": "code",
   "execution_count": 1,
   "id": "f8657149",
   "metadata": {},
   "outputs": [
    {
     "data": {
      "text/plain": [
       "[52,\n",
       " 59,\n",
       " 26,\n",
       " 38,\n",
       " 88,\n",
       " 43,\n",
       " 99,\n",
       " 13,\n",
       " 32,\n",
       " 19,\n",
       " 90,\n",
       " 92,\n",
       " 17,\n",
       " 41,\n",
       " 76,\n",
       " 22,\n",
       " 98,\n",
       " 35,\n",
       " 67,\n",
       " 5,\n",
       " 84,\n",
       " 74,\n",
       " 80,\n",
       " 33,\n",
       " 50,\n",
       " 23,\n",
       " 0,\n",
       " 45,\n",
       " 11,\n",
       " 77,\n",
       " 73,\n",
       " 71,\n",
       " 47,\n",
       " 64,\n",
       " 97,\n",
       " 16,\n",
       " 8,\n",
       " 53,\n",
       " 91,\n",
       " 30,\n",
       " 69,\n",
       " 27,\n",
       " 49,\n",
       " 28,\n",
       " 89,\n",
       " 1,\n",
       " 79,\n",
       " 95,\n",
       " 6,\n",
       " 31,\n",
       " 42,\n",
       " 93,\n",
       " 37,\n",
       " 56,\n",
       " 24,\n",
       " 75,\n",
       " 40,\n",
       " 29,\n",
       " 68,\n",
       " 18,\n",
       " 87,\n",
       " 54,\n",
       " 78,\n",
       " 36,\n",
       " 62,\n",
       " 10,\n",
       " 82,\n",
       " 83,\n",
       " 3,\n",
       " 57,\n",
       " 12,\n",
       " 63,\n",
       " 66,\n",
       " 7,\n",
       " 60,\n",
       " 44,\n",
       " 85,\n",
       " 9,\n",
       " 65,\n",
       " 55,\n",
       " 21,\n",
       " 20,\n",
       " 2,\n",
       " 70,\n",
       " 15,\n",
       " 4,\n",
       " 96,\n",
       " 81,\n",
       " 72,\n",
       " 39,\n",
       " 34,\n",
       " 58,\n",
       " 48,\n",
       " 14,\n",
       " 86,\n",
       " 46,\n",
       " 94,\n",
       " 61,\n",
       " 25,\n",
       " 51]"
      ]
     },
     "execution_count": 1,
     "metadata": {},
     "output_type": "execute_result"
    }
   ],
   "source": [
    "import numpy as np\n",
    "import random\n",
    "l=list(range(100))\n",
    "random.shuffle(l)\n",
    "l"
   ]
  },
  {
   "cell_type": "code",
   "execution_count": 4,
   "id": "cfa3bdf3",
   "metadata": {},
   "outputs": [
    {
     "name": "stdout",
     "output_type": "stream",
     "text": [
      "found\n"
     ]
    }
   ],
   "source": [
    "# search for n element q in the list:\n",
    "q=31                                    #  1 unit of time\n",
    "isFound=False;                          #  1 unit of time\n",
    "for ele in l:                           #|\n",
    "    if ele==31:                         #|\n",
    "        print(\"found\")                  #>>>  4n unit of time\n",
    "        isFound=True                    #|\n",
    "        break;                          #|\n",
    "if isFound==False:                      #  1 unit of time\n",
    "    print(\"not found\")                  #  1 unit of time           \n",
    "\n",
    "# therefore, total time required= 1+1+4n+1+1 = 4+4n = 4n unit of time."
   ]
  },
  {
   "cell_type": "code",
   "execution_count": null,
   "id": "09d73d3e",
   "metadata": {},
   "outputs": [],
   "source": []
  }
 ],
 "metadata": {
  "kernelspec": {
   "display_name": "Python 3 (ipykernel)",
   "language": "python",
   "name": "python3"
  },
  "language_info": {
   "codemirror_mode": {
    "name": "ipython",
    "version": 3
   },
   "file_extension": ".py",
   "mimetype": "text/x-python",
   "name": "python",
   "nbconvert_exporter": "python",
   "pygments_lexer": "ipython3",
   "version": "3.9.13"
  }
 },
 "nbformat": 4,
 "nbformat_minor": 5
}
