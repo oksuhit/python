{
 "cells": [
  {
   "cell_type": "markdown",
   "id": "8c951e70",
   "metadata": {},
   "source": [
    "## keywords"
   ]
  },
  {
   "cell_type": "code",
   "execution_count": 1,
   "id": "2e023861",
   "metadata": {},
   "outputs": [
    {
     "name": "stdout",
     "output_type": "stream",
     "text": [
      "['False', 'None', 'True', '__peg_parser__', 'and', 'as', 'assert', 'async', 'await', 'break', 'class', 'continue', 'def', 'del', 'elif', 'else', 'except', 'finally', 'for', 'from', 'global', 'if', 'import', 'in', 'is', 'lambda', 'nonlocal', 'not', 'or', 'pass', 'raise', 'return', 'try', 'while', 'with', 'yield']\n",
      "total no. of keywords: 36\n"
     ]
    }
   ],
   "source": [
    "import keyword\n",
    "import numpy as np\n",
    "print(keyword.kwlist)\n",
    "print(\"total no. of keywords:\",len(keyword.kwlist))"
   ]
  },
  {
   "cell_type": "markdown",
   "id": "294ddf29",
   "metadata": {},
   "source": [
    "## identifiers"
   ]
  },
  {
   "cell_type": "code",
   "execution_count": 2,
   "id": "ac0d7351",
   "metadata": {},
   "outputs": [
    {
     "ename": "SyntaxError",
     "evalue": "invalid syntax (464974806.py, line 2)",
     "output_type": "error",
     "traceback": [
      "\u001b[1;36m  File \u001b[1;32m\"C:\\Users\\Suhit\\AppData\\Local\\Temp\\ipykernel_3632\\464974806.py\"\u001b[1;36m, line \u001b[1;32m2\u001b[0m\n\u001b[1;33m    global = 1\u001b[0m\n\u001b[1;37m           ^\u001b[0m\n\u001b[1;31mSyntaxError\u001b[0m\u001b[1;31m:\u001b[0m invalid syntax\n"
     ]
    }
   ],
   "source": [
    "abc_12 = 12;\n",
    "global = 1"
   ]
  },
  {
   "cell_type": "markdown",
   "id": "a12cbe8d",
   "metadata": {},
   "source": [
    "we cannot use special symbols like !,@,#,$,% etc. in our identifiers"
   ]
  },
  {
   "cell_type": "code",
   "execution_count": 4,
   "id": "b300eaeb",
   "metadata": {},
   "outputs": [
    {
     "ename": "SyntaxError",
     "evalue": "invalid syntax (1890246595.py, line 1)",
     "output_type": "error",
     "traceback": [
      "\u001b[1;36m  File \u001b[1;32m\"C:\\Users\\Suhit\\AppData\\Local\\Temp\\ipykernel_3632\\1890246595.py\"\u001b[1;36m, line \u001b[1;32m1\u001b[0m\n\u001b[1;33m    a@ = 10\u001b[0m\n\u001b[1;37m       ^\u001b[0m\n\u001b[1;31mSyntaxError\u001b[0m\u001b[1;31m:\u001b[0m invalid syntax\n"
     ]
    }
   ],
   "source": [
    "a@ = 10"
   ]
  },
  {
   "cell_type": "code",
   "execution_count": 5,
   "id": "5282f154",
   "metadata": {},
   "outputs": [
    {
     "name": "stdout",
     "output_type": "stream",
     "text": [
      "hello world\n"
     ]
    }
   ],
   "source": [
    "print(\"hello world\")"
   ]
  },
  {
   "cell_type": "markdown",
   "id": "b8a0efb8",
   "metadata": {},
   "source": [
    "## python indentation\n",
    "\n",
    "a code block (body of a function, loop etc.) starts with indentation and ends with the first unindented line. The amount of indentation is upto you,but it must be consistent throughout that block.\n",
    "\n",
    "Generally four whitespaces are used for indentation and is preffered over tabs."
   ]
  },
  {
   "cell_type": "code",
   "execution_count": 6,
   "id": "07d6731f",
   "metadata": {},
   "outputs": [
    {
     "name": "stdout",
     "output_type": "stream",
     "text": [
      "0\n",
      "0\n",
      "1\n",
      "2\n",
      "2\n",
      "4\n",
      "3\n",
      "6\n",
      "4\n",
      "8\n",
      "5\n",
      "10\n",
      "6\n",
      "12\n",
      "7\n",
      "14\n",
      "8\n",
      "16\n",
      "9\n",
      "18\n",
      "100\n"
     ]
    }
   ],
   "source": [
    "for i in range(10):\n",
    "    print(i)\n",
    "    print(i*2)\n",
    "print(100)"
   ]
  },
  {
   "cell_type": "code",
   "execution_count": 7,
   "id": "ee9a03a0",
   "metadata": {},
   "outputs": [
    {
     "name": "stdout",
     "output_type": "stream",
     "text": [
      "machine learning\n"
     ]
    }
   ],
   "source": [
    "if True:\n",
    "    print(\"machine learning\")\n",
    "    c = \"AAIC\""
   ]
  },
  {
   "cell_type": "markdown",
   "id": "01492416",
   "metadata": {},
   "source": [
    "\";\" it indicates the line reads one after another."
   ]
  },
  {
   "cell_type": "code",
   "execution_count": 8,
   "id": "14afaf12",
   "metadata": {},
   "outputs": [
    {
     "name": "stdout",
     "output_type": "stream",
     "text": [
      "machine learning\n"
     ]
    }
   ],
   "source": [
    "if True:print(\"machine learning\"); c = \"AACI\""
   ]
  },
  {
   "cell_type": "markdown",
   "id": "285afbe9",
   "metadata": {},
   "source": [
    "## python statement"
   ]
  },
  {
   "cell_type": "code",
   "execution_count": 9,
   "id": "2808e753",
   "metadata": {},
   "outputs": [],
   "source": [
    "a = 1 #single line statement"
   ]
  },
  {
   "cell_type": "markdown",
   "id": "6f6d7779",
   "metadata": {},
   "source": [
    "## multi line statement\n",
    "\n",
    "in python end of a statement is marked by a new line charecter. but we can make a statement extend over multiple lines with line continuation charecter()."
   ]
  },
  {
   "cell_type": "code",
   "execution_count": 10,
   "id": "a52a69c8",
   "metadata": {},
   "outputs": [],
   "source": [
    "a = 1+2+3+\\\n",
    "    4+5+6+\\\n",
    "    7+8"
   ]
  },
  {
   "cell_type": "code",
   "execution_count": 11,
   "id": "4b48dbea",
   "metadata": {},
   "outputs": [
    {
     "name": "stdout",
     "output_type": "stream",
     "text": [
      "36\n"
     ]
    }
   ],
   "source": [
    "print(a)"
   ]
  },
  {
   "cell_type": "code",
   "execution_count": 12,
   "id": "a48c1b18",
   "metadata": {},
   "outputs": [
    {
     "name": "stdout",
     "output_type": "stream",
     "text": [
      "36\n"
     ]
    }
   ],
   "source": [
    "# another way is to use paranthesis\n",
    "a = (1+2+3+4+5+6+7+8)\n",
    "print(a)"
   ]
  },
  {
   "cell_type": "code",
   "execution_count": 13,
   "id": "3626ce6b",
   "metadata": {},
   "outputs": [],
   "source": [
    "a =10 ; b=20 ; c=30 #put multiple statements in a single line using \";\""
   ]
  },
  {
   "cell_type": "markdown",
   "id": "cc358729",
   "metadata": {},
   "source": [
    "## variable assignments"
   ]
  },
  {
   "cell_type": "code",
   "execution_count": 14,
   "id": "6929da4b",
   "metadata": {},
   "outputs": [],
   "source": [
    "## we use the assignment operator (=) to assign values to a variable\n",
    "\n",
    "a = 10\n",
    "b = 5.5\n",
    "c = \"ML\""
   ]
  },
  {
   "cell_type": "markdown",
   "id": "9629a785",
   "metadata": {},
   "source": [
    "## multiple assignments"
   ]
  },
  {
   "cell_type": "code",
   "execution_count": 15,
   "id": "3604e406",
   "metadata": {},
   "outputs": [],
   "source": [
    "a,b,c = 10,5.5,\"ML\""
   ]
  },
  {
   "cell_type": "code",
   "execution_count": 16,
   "id": "751b1e8c",
   "metadata": {},
   "outputs": [],
   "source": [
    "a = b = c = \"AI\" #assign the same value to multiple variables at once"
   ]
  },
  {
   "cell_type": "markdown",
   "id": "b75e82bd",
   "metadata": {},
   "source": [
    "## storage locations"
   ]
  },
  {
   "cell_type": "code",
   "execution_count": 17,
   "id": "d6029dd0",
   "metadata": {},
   "outputs": [
    {
     "name": "stdout",
     "output_type": "stream",
     "text": [
      "1979738646896\n"
     ]
    }
   ],
   "source": [
    "x = 3\n",
    "\n",
    "print(id(x)) #print address of variable x"
   ]
  },
  {
   "cell_type": "code",
   "execution_count": 18,
   "id": "b01895a5",
   "metadata": {},
   "outputs": [
    {
     "name": "stdout",
     "output_type": "stream",
     "text": [
      "1979738646896\n"
     ]
    }
   ],
   "source": [
    "y = 3\n",
    "\n",
    "print(id(y)) #print address of variable y"
   ]
  },
  {
   "cell_type": "markdown",
   "id": "f34a2417",
   "metadata": {},
   "source": [
    "observation:\n",
    "\n",
    "x and y points to the same memory location"
   ]
  },
  {
   "cell_type": "code",
   "execution_count": 19,
   "id": "b40770c2",
   "metadata": {},
   "outputs": [
    {
     "name": "stdout",
     "output_type": "stream",
     "text": [
      "1979738646864\n"
     ]
    }
   ],
   "source": [
    "y = 2\n",
    "print(id(y))"
   ]
  },
  {
   "cell_type": "markdown",
   "id": "81951864",
   "metadata": {},
   "source": [
    "## data types"
   ]
  },
  {
   "cell_type": "markdown",
   "id": "adce1a89",
   "metadata": {},
   "source": [
    "## 1)numbers"
   ]
  },
  {
   "cell_type": "code",
   "execution_count": 20,
   "id": "cf0b570e",
   "metadata": {},
   "outputs": [
    {
     "name": "stdout",
     "output_type": "stream",
     "text": [
      "5 is of type <class 'int'>\n"
     ]
    }
   ],
   "source": [
    "a = 5                        #data type is implicitly set to integer\n",
    "print(a,\"is of type\",type(a)) "
   ]
  },
  {
   "cell_type": "code",
   "execution_count": 21,
   "id": "1bc08ca9",
   "metadata": {},
   "outputs": [
    {
     "name": "stdout",
     "output_type": "stream",
     "text": [
      "2.5 is of type <class 'float'>\n"
     ]
    }
   ],
   "source": [
    "a = 2.5                      # data type changes to float\n",
    "print(a,\"is of type\",type(a))"
   ]
  },
  {
   "cell_type": "code",
   "execution_count": 22,
   "id": "c06ac9d0",
   "metadata": {},
   "outputs": [
    {
     "name": "stdout",
     "output_type": "stream",
     "text": [
      "(1+2j) is complex number?\n",
      "True\n",
      "<class 'complex'>\n"
     ]
    }
   ],
   "source": [
    "a = 1+2j                     #data type is changed to complex number\n",
    "print(a,\"is complex number?\")\n",
    "print(isinstance(1+2j,complex))\n",
    "print(type(a))"
   ]
  },
  {
   "cell_type": "markdown",
   "id": "a6dd8865",
   "metadata": {},
   "source": [
    "## 2)boolean"
   ]
  },
  {
   "cell_type": "code",
   "execution_count": 23,
   "id": "8ac6f73b",
   "metadata": {},
   "outputs": [
    {
     "name": "stdout",
     "output_type": "stream",
     "text": [
      "<class 'bool'>\n"
     ]
    }
   ],
   "source": [
    "a =True\n",
    "print(type(a))"
   ]
  },
  {
   "cell_type": "markdown",
   "id": "880373ec",
   "metadata": {},
   "source": [
    "## python string\n",
    "\n",
    "string is a sequence of unicode charecters.\n",
    "\n",
    "we can usw a single quotes or double quotes to represent a strings.\n",
    "\n",
    "multi-line strings can be denoted using triple quotes,\"\"\"or'''.\n",
    "\n",
    "a string in python consists of a series or sequence of characters - letters,numbers,and special characters.\n",
    "\n",
    "string can be indexed - often synonymously called subscripted as well.\n",
    "\n",
    "similar to C,the first character of a string has the index 0."
   ]
  },
  {
   "cell_type": "code",
   "execution_count": 24,
   "id": "e2cfae09",
   "metadata": {},
   "outputs": [
    {
     "name": "stdout",
     "output_type": "stream",
     "text": [
      "this is a online AI course\n",
      "<class 'str'>\n"
     ]
    }
   ],
   "source": [
    "s = \"this is a online AI course\"\n",
    "print(s)\n",
    "print(type(s))"
   ]
  },
  {
   "cell_type": "code",
   "execution_count": 25,
   "id": "eaa62796",
   "metadata": {},
   "outputs": [
    {
     "name": "stdout",
     "output_type": "stream",
     "text": [
      "t\n"
     ]
    }
   ],
   "source": [
    "print(s[0])\n",
    "#last char s[len(s)-1] or s[-1]"
   ]
  },
  {
   "cell_type": "code",
   "execution_count": 26,
   "id": "a7045477",
   "metadata": {},
   "outputs": [
    {
     "name": "stdout",
     "output_type": "stream",
     "text": [
      "e\n"
     ]
    }
   ],
   "source": [
    "print(s[-1]) #last char"
   ]
  },
  {
   "cell_type": "code",
   "execution_count": 27,
   "id": "3fd28178",
   "metadata": {},
   "outputs": [
    {
     "data": {
      "text/plain": [
       "'is a online AI course'"
      ]
     },
     "execution_count": 27,
     "metadata": {},
     "output_type": "execute_result"
    }
   ],
   "source": [
    "# slicing\n",
    "s[5:]     #print everything from 5 onwards"
   ]
  },
  {
   "cell_type": "code",
   "execution_count": 28,
   "id": "808d8c2a",
   "metadata": {},
   "outputs": [
    {
     "data": {
      "text/plain": [
       "'is a '"
      ]
     },
     "execution_count": 28,
     "metadata": {},
     "output_type": "execute_result"
    }
   ],
   "source": [
    "s[5:10]"
   ]
  },
  {
   "cell_type": "markdown",
   "id": "5f5c715f",
   "metadata": {},
   "source": [
    "## python lists\n",
    "\n",
    "lists is an ordered sequence of items. it is one of the most used datatype in python and is very flexible. all the items in a list do not need to be of the same type.\n",
    "\n",
    "declaring a list is, items seperated by commas are enclosed within brackets[]."
   ]
  },
  {
   "cell_type": "code",
   "execution_count": 29,
   "id": "4fffd6c4",
   "metadata": {},
   "outputs": [
    {
     "name": "stdout",
     "output_type": "stream",
     "text": [
      "2.5\n"
     ]
    }
   ],
   "source": [
    "a = [10,2.5,\"hello\"]\n",
    "print(a[1])          #print 1st index element"
   ]
  },
  {
   "cell_type": "markdown",
   "id": "6fc9af5f",
   "metadata": {},
   "source": [
    "lists are mutable.\n",
    "\n",
    "meaning: value of elements of a list can be altered."
   ]
  },
  {
   "cell_type": "code",
   "execution_count": 30,
   "id": "4b4d9622",
   "metadata": {},
   "outputs": [
    {
     "name": "stdout",
     "output_type": "stream",
     "text": [
      "[10, 30.7, 'hello']\n"
     ]
    }
   ],
   "source": [
    "a[1] = 30.7\n",
    "print(a)"
   ]
  },
  {
   "cell_type": "markdown",
   "id": "80e369fc",
   "metadata": {},
   "source": [
    "## python tuple\n",
    "\n",
    "tuple is an ordered sequence of items same as list. the only difference is that tuples are immutable.\n",
    "\n",
    "tuple once created cannot be modified."
   ]
  },
  {
   "cell_type": "code",
   "execution_count": 31,
   "id": "5b37c7b2",
   "metadata": {},
   "outputs": [],
   "source": [
    "t = (1,1.5,\"ML\")"
   ]
  },
  {
   "cell_type": "code",
   "execution_count": 32,
   "id": "af1206db",
   "metadata": {},
   "outputs": [
    {
     "name": "stdout",
     "output_type": "stream",
     "text": [
      "1.5\n"
     ]
    }
   ],
   "source": [
    "print(t[1]) #extra particular element"
   ]
  },
  {
   "cell_type": "code",
   "execution_count": 33,
   "id": "05b04ea2",
   "metadata": {},
   "outputs": [
    {
     "ename": "TypeError",
     "evalue": "'tuple' object does not support item assignment",
     "output_type": "error",
     "traceback": [
      "\u001b[1;31m---------------------------------------------------------------------------\u001b[0m",
      "\u001b[1;31mTypeError\u001b[0m                                 Traceback (most recent call last)",
      "\u001b[1;32m~\\AppData\\Local\\Temp\\ipykernel_3632\\1287937225.py\u001b[0m in \u001b[0;36m<module>\u001b[1;34m\u001b[0m\n\u001b[1;32m----> 1\u001b[1;33m \u001b[0mt\u001b[0m\u001b[1;33m[\u001b[0m\u001b[1;36m1\u001b[0m\u001b[1;33m]\u001b[0m \u001b[1;33m=\u001b[0m \u001b[1;36m1.25\u001b[0m\u001b[1;33m\u001b[0m\u001b[1;33m\u001b[0m\u001b[0m\n\u001b[0m",
      "\u001b[1;31mTypeError\u001b[0m: 'tuple' object does not support item assignment"
     ]
    }
   ],
   "source": [
    "t[1] = 1.25"
   ]
  },
  {
   "cell_type": "markdown",
   "id": "2f4a6e60",
   "metadata": {},
   "source": [
    "## python set\n",
    "\n",
    "set is an unordered collection of unique items. set is defined by values separated by comma inside braces{}.items in a set are not ordered."
   ]
  },
  {
   "cell_type": "code",
   "execution_count": 34,
   "id": "9c7f3336",
   "metadata": {},
   "outputs": [
    {
     "name": "stdout",
     "output_type": "stream",
     "text": [
      "{20, 5, 40, 10, 30}\n",
      "<class 'set'>\n"
     ]
    }
   ],
   "source": [
    "a = {10,30,20,40,5}\n",
    "print(a)\n",
    "print(type(a))"
   ]
  },
  {
   "cell_type": "markdown",
   "id": "288d9f6e",
   "metadata": {},
   "source": [
    "we can perform set operations like union,intersection on two sets. set have unique values."
   ]
  },
  {
   "cell_type": "code",
   "execution_count": 35,
   "id": "78d1b267",
   "metadata": {},
   "outputs": [
    {
     "name": "stdout",
     "output_type": "stream",
     "text": [
      "{10, 20, 30}\n"
     ]
    }
   ],
   "source": [
    "s = {10,20,20,30,30,30}\n",
    "print(s)                #automartically set won't consider duplicate elements"
   ]
  },
  {
   "cell_type": "code",
   "execution_count": 36,
   "id": "bac4c4a5",
   "metadata": {},
   "outputs": [
    {
     "ename": "TypeError",
     "evalue": "'set' object is not subscriptable",
     "output_type": "error",
     "traceback": [
      "\u001b[1;31m---------------------------------------------------------------------------\u001b[0m",
      "\u001b[1;31mTypeError\u001b[0m                                 Traceback (most recent call last)",
      "\u001b[1;32m~\\AppData\\Local\\Temp\\ipykernel_3632\\2092009605.py\u001b[0m in \u001b[0;36m<module>\u001b[1;34m\u001b[0m\n\u001b[1;32m----> 1\u001b[1;33m \u001b[0mprint\u001b[0m\u001b[1;33m(\u001b[0m\u001b[0ms\u001b[0m\u001b[1;33m[\u001b[0m\u001b[1;36m1\u001b[0m\u001b[1;33m]\u001b[0m\u001b[1;33m)\u001b[0m \u001b[1;31m# we can't print particular element in set because\u001b[0m\u001b[1;33m\u001b[0m\u001b[1;33m\u001b[0m\u001b[0m\n\u001b[0m\u001b[0;32m      2\u001b[0m             \u001b[1;31m# it's unorder collections of items\u001b[0m\u001b[1;33m\u001b[0m\u001b[1;33m\u001b[0m\u001b[0m\n",
      "\u001b[1;31mTypeError\u001b[0m: 'set' object is not subscriptable"
     ]
    }
   ],
   "source": [
    "print(s[1]) # we can't print particular element in set because\n",
    "            # it's unorder collections of items"
   ]
  },
  {
   "cell_type": "markdown",
   "id": "1a936035",
   "metadata": {},
   "source": [
    "## python dictionary\n",
    "\n",
    "dictionary is an unordered collection of key-value pairs.\n",
    "\n",
    "in python,dictionaries are defined within braces{} with each item being a pair in the form key:value.\n",
    "\n",
    "Key and value can be of any type."
   ]
  },
  {
   "cell_type": "code",
   "execution_count": 37,
   "id": "e386e28e",
   "metadata": {},
   "outputs": [
    {
     "name": "stdout",
     "output_type": "stream",
     "text": [
      "apple\n"
     ]
    }
   ],
   "source": [
    "d = {'a':\"apple\",'b':\"bat\"}  # {'key':\"value\"}\n",
    "print(d['a'])"
   ]
  },
  {
   "cell_type": "markdown",
   "id": "683facd3",
   "metadata": {},
   "source": [
    "## conversation between datatypes\n",
    "\n",
    "we can convert between different data types by using different type conversion functions like int(),float(),str() etc."
   ]
  },
  {
   "cell_type": "code",
   "execution_count": 38,
   "id": "c477337c",
   "metadata": {},
   "outputs": [
    {
     "data": {
      "text/plain": [
       "5.0"
      ]
     },
     "execution_count": 38,
     "metadata": {},
     "output_type": "execute_result"
    }
   ],
   "source": [
    "float(5)  #convert integer to float using float() method"
   ]
  },
  {
   "cell_type": "code",
   "execution_count": 39,
   "id": "e0eca953",
   "metadata": {},
   "outputs": [
    {
     "data": {
      "text/plain": [
       "100"
      ]
     },
     "execution_count": 39,
     "metadata": {},
     "output_type": "execute_result"
    }
   ],
   "source": [
    "int(100.5)   #convert float to integer using int() method"
   ]
  },
  {
   "cell_type": "code",
   "execution_count": 40,
   "id": "6b7e0b74",
   "metadata": {},
   "outputs": [
    {
     "data": {
      "text/plain": [
       "'20'"
      ]
     },
     "execution_count": 40,
     "metadata": {},
     "output_type": "execute_result"
    }
   ],
   "source": [
    "str(20)    #convert integer to string"
   ]
  },
  {
   "cell_type": "markdown",
   "id": "daea1edd",
   "metadata": {},
   "source": [
    "conversion to and from string must contain compatible values."
   ]
  },
  {
   "cell_type": "code",
   "execution_count": 41,
   "id": "4f93839f",
   "metadata": {},
   "outputs": [
    {
     "ename": "ValueError",
     "evalue": "invalid literal for int() with base 10: '10p'",
     "output_type": "error",
     "traceback": [
      "\u001b[1;31m---------------------------------------------------------------------------\u001b[0m",
      "\u001b[1;31mValueError\u001b[0m                                Traceback (most recent call last)",
      "\u001b[1;32m~\\AppData\\Local\\Temp\\ipykernel_3632\\3315310353.py\u001b[0m in \u001b[0;36m<module>\u001b[1;34m\u001b[0m\n\u001b[1;32m----> 1\u001b[1;33m \u001b[0mint\u001b[0m\u001b[1;33m(\u001b[0m\u001b[1;34m'10p'\u001b[0m\u001b[1;33m)\u001b[0m\u001b[1;33m\u001b[0m\u001b[1;33m\u001b[0m\u001b[0m\n\u001b[0m",
      "\u001b[1;31mValueError\u001b[0m: invalid literal for int() with base 10: '10p'"
     ]
    }
   ],
   "source": [
    "int('10p')"
   ]
  },
  {
   "cell_type": "code",
   "execution_count": 42,
   "id": "40cb79fb",
   "metadata": {},
   "outputs": [
    {
     "name": "stdout",
     "output_type": "stream",
     "text": [
      "congratulations, satish! you just wrote 100 lines of code\n"
     ]
    }
   ],
   "source": [
    "user = \"satish\"\n",
    "lines = 100\n",
    "\n",
    "print(\"congratulations, \" + user + \"! you just wrote \" + str(lines) + \" lines of code\")\n",
    "\n",
    "#remove str and gives error"
   ]
  },
  {
   "cell_type": "markdown",
   "id": "2d7bc1a4",
   "metadata": {},
   "source": [
    "we can convert one sequence to another"
   ]
  },
  {
   "cell_type": "code",
   "execution_count": 43,
   "id": "3113d1d7",
   "metadata": {},
   "outputs": [
    {
     "name": "stdout",
     "output_type": "stream",
     "text": [
      "<class 'list'>\n",
      "<class 'set'>\n"
     ]
    }
   ],
   "source": [
    "a = [1,2,3]\n",
    "print(type(a))\n",
    "\n",
    "s = set(a)\n",
    "\n",
    "print(type(s))"
   ]
  },
  {
   "cell_type": "code",
   "execution_count": 44,
   "id": "6bbb311b",
   "metadata": {},
   "outputs": [
    {
     "data": {
      "text/plain": [
       "['h', 'e', 'l', 'l', 'o']"
      ]
     },
     "execution_count": 44,
     "metadata": {},
     "output_type": "execute_result"
    }
   ],
   "source": [
    "list(\"hello\")   #convert string to list using list() method"
   ]
  },
  {
   "cell_type": "markdown",
   "id": "3fb6f6c9",
   "metadata": {},
   "source": [
    "## python input and output\n",
    "\n",
    "## python output"
   ]
  },
  {
   "cell_type": "code",
   "execution_count": 45,
   "id": "a9308c6c",
   "metadata": {},
   "outputs": [
    {
     "name": "stdout",
     "output_type": "stream",
     "text": [
      "hello world\n"
     ]
    }
   ],
   "source": [
    "print(\"hello world\")"
   ]
  },
  {
   "cell_type": "code",
   "execution_count": 46,
   "id": "2aa05c5e",
   "metadata": {},
   "outputs": [
    {
     "name": "stdout",
     "output_type": "stream",
     "text": [
      "the value of a is 10\n",
      "the value of a is10\n"
     ]
    }
   ],
   "source": [
    "a=10\n",
    "print(\"the value of a is\",a)\n",
    "print(\"the value of a is\" + str(a))"
   ]
  },
  {
   "cell_type": "markdown",
   "id": "226a3471",
   "metadata": {},
   "source": [
    "## output formating"
   ]
  },
  {
   "cell_type": "code",
   "execution_count": 47,
   "id": "edf55d64",
   "metadata": {},
   "outputs": [
    {
     "name": "stdout",
     "output_type": "stream",
     "text": [
      "the value of a is 10 and b is 20\n"
     ]
    }
   ],
   "source": [
    "a=10;b=20\n",
    "print(\"the value of a is {} and b is {}\".format(a,b))"
   ]
  },
  {
   "cell_type": "code",
   "execution_count": 48,
   "id": "56ffa784",
   "metadata": {},
   "outputs": [
    {
     "name": "stdout",
     "output_type": "stream",
     "text": [
      "the value of b is 20 and a is 10\n"
     ]
    }
   ],
   "source": [
    "a=10;b=20\n",
    "print(\"the value of b is {1} and a is {0}\". format(a,b))"
   ]
  },
  {
   "cell_type": "code",
   "execution_count": 49,
   "id": "fc382945",
   "metadata": {},
   "outputs": [
    {
     "name": "stdout",
     "output_type": "stream",
     "text": [
      "hello satish, good morning\n"
     ]
    }
   ],
   "source": [
    "# we can use keyword arguments to format the string\n",
    "print(\"hello {name}, {greeting}\".format(name=\"satish\", greeting=\"good morning\"))"
   ]
  },
  {
   "cell_type": "code",
   "execution_count": 50,
   "id": "5b97a37b",
   "metadata": {},
   "outputs": [
    {
     "name": "stdout",
     "output_type": "stream",
     "text": [
      "the story of bill,manfred,and george\n"
     ]
    }
   ],
   "source": [
    "#we can combine positional arguments with keyword arguments\n",
    "print('the story of {0},{1},and {other}'.format('bill','manfred', other='george'))"
   ]
  },
  {
   "cell_type": "markdown",
   "id": "383b109b",
   "metadata": {},
   "source": [
    "## pyhton input"
   ]
  },
  {
   "cell_type": "code",
   "execution_count": 51,
   "id": "a485ca17",
   "metadata": {},
   "outputs": [
    {
     "name": "stdout",
     "output_type": "stream",
     "text": [
      "enter the no.:\n",
      "\n"
     ]
    }
   ],
   "source": [
    "num = input(\"enter the no.:\")\n",
    "print(num)"
   ]
  },
  {
   "cell_type": "markdown",
   "id": "c878b034",
   "metadata": {},
   "source": [
    "## operators"
   ]
  },
  {
   "cell_type": "markdown",
   "id": "fa6121de",
   "metadata": {},
   "source": [
    "## 1)arithematic operators"
   ]
  },
  {
   "cell_type": "code",
   "execution_count": 52,
   "id": "1ef56e8f",
   "metadata": {},
   "outputs": [
    {
     "name": "stdout",
     "output_type": "stream",
     "text": [
      "30\n"
     ]
    }
   ],
   "source": [
    "x,y = 10,20\n",
    "\n",
    "#addition\n",
    "print(x+y)\n",
    "\n",
    "#substraction(-)\n",
    "\n",
    "#multiplication(*)\n",
    "\n",
    "#division(/)\n",
    "\n",
    "#modulo division(%)    ##it givesyou the reminder of division\n",
    "\n",
    "#floor division(//)    ## 15/2 = 7.5  therefore, floor division is integer less than 7.5 and close to 7.5 i.e 7\n",
    "\n",
    "#exponent(**)          ## to the power"
   ]
  },
  {
   "cell_type": "markdown",
   "id": "d1930b0c",
   "metadata": {},
   "source": [
    "## 2) comparision operator"
   ]
  },
  {
   "cell_type": "code",
   "execution_count": 53,
   "id": "78901d6e",
   "metadata": {},
   "outputs": [
    {
     "name": "stdout",
     "output_type": "stream",
     "text": [
      "True\n",
      "False\n",
      "True\n",
      "False\n",
      "True\n"
     ]
    }
   ],
   "source": [
    "a,b = 10,20\n",
    "\n",
    "print(a<b)\n",
    "print(a==b)\n",
    "print(a!=b)\n",
    "print(a>=b)\n",
    "print(a<=b)"
   ]
  },
  {
   "cell_type": "markdown",
   "id": "4d31002e",
   "metadata": {},
   "source": [
    "## 3)logical operator"
   ]
  },
  {
   "cell_type": "code",
   "execution_count": 54,
   "id": "2536d2bb",
   "metadata": {},
   "outputs": [
    {
     "name": "stdout",
     "output_type": "stream",
     "text": [
      "False\n",
      "True\n",
      "True\n"
     ]
    }
   ],
   "source": [
    "a,b = True,False\n",
    "\n",
    "print(a and b)\n",
    "print(a or b)\n",
    "print(not b)"
   ]
  },
  {
   "cell_type": "markdown",
   "id": "143a3b4b",
   "metadata": {},
   "source": [
    "## 4) bitwise operator"
   ]
  },
  {
   "cell_type": "code",
   "execution_count": 55,
   "id": "90004916",
   "metadata": {},
   "outputs": [
    {
     "name": "stdout",
     "output_type": "stream",
     "text": [
      "0\n",
      "14\n",
      "-11\n",
      "14\n",
      "0\n",
      "160\n"
     ]
    }
   ],
   "source": [
    "a,b=10,4\n",
    "\n",
    "print(a & b)  #bitwise and\n",
    "\n",
    "print(a|b)    #bitwise or\n",
    "\n",
    "print(~a)     #bitwise not\n",
    "\n",
    "print(a^b)    #bitwise xor\n",
    "\n",
    "print(a>>b)    #bitwise rightshift\n",
    "\n",
    "print(a<<b)    #bitwise leftshift"
   ]
  },
  {
   "cell_type": "markdown",
   "id": "e4f44315",
   "metadata": {},
   "source": [
    "## 5)assignment operators"
   ]
  },
  {
   "cell_type": "code",
   "execution_count": 56,
   "id": "2b778dba",
   "metadata": {},
   "outputs": [
    {
     "name": "stdout",
     "output_type": "stream",
     "text": [
      "20\n"
     ]
    }
   ],
   "source": [
    "a=10\n",
    "a+=10\n",
    "print(a) #add and\n",
    "\n",
    "# substract and(-=)\n",
    "\n",
    "#multiply and(*=)\n",
    "\n",
    "#divide and(/=)\n",
    "\n",
    "#modulus and(%=)\n",
    "\n",
    "#floor division(//=)\n",
    "\n",
    "#exponent and(**=)"
   ]
  },
  {
   "cell_type": "markdown",
   "id": "a46ff422",
   "metadata": {},
   "source": [
    "## 6) special operators\n",
    "\n",
    "is and is not are the identity operators"
   ]
  },
  {
   "cell_type": "code",
   "execution_count": 57,
   "id": "8e62ea04",
   "metadata": {},
   "outputs": [
    {
     "name": "stdout",
     "output_type": "stream",
     "text": [
      "True\n"
     ]
    }
   ],
   "source": [
    "a=5\n",
    "b=5\n",
    "print(a is b)   #5 is object created once both a and b points to same object"
   ]
  },
  {
   "cell_type": "code",
   "execution_count": 58,
   "id": "a868a13d",
   "metadata": {},
   "outputs": [
    {
     "name": "stdout",
     "output_type": "stream",
     "text": [
      "False\n"
     ]
    }
   ],
   "source": [
    "l1 = [1,2,3]\n",
    "l2 = [1,2,3]\n",
    "print(l1 is l2)   #same case is not true for two lists"
   ]
  },
  {
   "cell_type": "code",
   "execution_count": 59,
   "id": "8dc562e3",
   "metadata": {},
   "outputs": [
    {
     "name": "stdout",
     "output_type": "stream",
     "text": [
      "False\n"
     ]
    }
   ],
   "source": [
    "s1 = \"AAIC\"\n",
    "s2 = \"AAIC\"\n",
    "print(s1 is not s2)  #strings points at the same objects"
   ]
  },
  {
   "cell_type": "markdown",
   "id": "56d47979",
   "metadata": {},
   "source": [
    "## 7) membership operators\n",
    "\n",
    "in and not in are the membership operators in python."
   ]
  },
  {
   "cell_type": "code",
   "execution_count": 60,
   "id": "09629323",
   "metadata": {},
   "outputs": [
    {
     "name": "stdout",
     "output_type": "stream",
     "text": [
      "True\n"
     ]
    }
   ],
   "source": [
    "lst = [1,2,3,4]\n",
    "print(1 in lst)    #check 1 is present in agiven list or not\n",
    "\n",
    "#check 5 is present in a given list"
   ]
  },
  {
   "cell_type": "code",
   "execution_count": 61,
   "id": "ad770a5a",
   "metadata": {},
   "outputs": [
    {
     "name": "stdout",
     "output_type": "stream",
     "text": [
      "True\n"
     ]
    }
   ],
   "source": [
    "d = {1:\"a\",2:\"b\"}  #this is dictionary\n",
    "print(1 in d)"
   ]
  },
  {
   "cell_type": "markdown",
   "id": "4d624f05",
   "metadata": {},
   "source": [
    "## python while loop"
   ]
  },
  {
   "cell_type": "code",
   "execution_count": 62,
   "id": "9e785071",
   "metadata": {},
   "outputs": [
    {
     "name": "stdout",
     "output_type": "stream",
     "text": [
      "product is: 12000000\n"
     ]
    }
   ],
   "source": [
    "# find product of all numbers present in a list\n",
    "\n",
    "lst = [10,20,30,40,50]\n",
    "\n",
    "product = 1\n",
    "index = 0\n",
    "\n",
    "while index<len(lst):\n",
    "    product *= lst[index]\n",
    "    index += 1\n",
    "    \n",
    "print(\"product is: {}\".format(product))"
   ]
  },
  {
   "cell_type": "markdown",
   "id": "c83b731b",
   "metadata": {},
   "source": [
    "## while loop with else"
   ]
  },
  {
   "cell_type": "code",
   "execution_count": 63,
   "id": "b225b870",
   "metadata": {},
   "outputs": [
    {
     "name": "stdout",
     "output_type": "stream",
     "text": [
      "1\n",
      "2\n",
      "3\n",
      "no items left in the list\n"
     ]
    }
   ],
   "source": [
    "num = [1,2,3]\n",
    "\n",
    "#iterating over the list\n",
    "index = 0\n",
    "while index<len(num):\n",
    "    print(num[index])\n",
    "    index +=1\n",
    "else:\n",
    "    print(\"no items left in the list\")"
   ]
  },
  {
   "cell_type": "markdown",
   "id": "e18ac731",
   "metadata": {},
   "source": [
    "## python program to check given no. is prime or not"
   ]
  },
  {
   "cell_type": "code",
   "execution_count": 64,
   "id": "23f26e2a",
   "metadata": {},
   "outputs": [
    {
     "name": "stdout",
     "output_type": "stream",
     "text": [
      "enter a number:\n"
     ]
    },
    {
     "ename": "ValueError",
     "evalue": "invalid literal for int() with base 10: ''",
     "output_type": "error",
     "traceback": [
      "\u001b[1;31m---------------------------------------------------------------------------\u001b[0m",
      "\u001b[1;31mValueError\u001b[0m                                Traceback (most recent call last)",
      "\u001b[1;32m~\\AppData\\Local\\Temp\\ipykernel_3632\\1430880754.py\u001b[0m in \u001b[0;36m<module>\u001b[1;34m\u001b[0m\n\u001b[1;32m----> 1\u001b[1;33m \u001b[0mnum\u001b[0m \u001b[1;33m=\u001b[0m \u001b[0mint\u001b[0m\u001b[1;33m(\u001b[0m\u001b[0minput\u001b[0m\u001b[1;33m(\u001b[0m\u001b[1;34m\"enter a number:\"\u001b[0m\u001b[1;33m)\u001b[0m\u001b[1;33m)\u001b[0m\u001b[1;33m\u001b[0m\u001b[1;33m\u001b[0m\u001b[0m\n\u001b[0m\u001b[0;32m      2\u001b[0m \u001b[1;33m\u001b[0m\u001b[0m\n\u001b[0;32m      3\u001b[0m \u001b[0misdivisible\u001b[0m \u001b[1;33m=\u001b[0m \u001b[1;32mFalse\u001b[0m\u001b[1;33m;\u001b[0m\u001b[1;33m\u001b[0m\u001b[1;33m\u001b[0m\u001b[0m\n\u001b[0;32m      4\u001b[0m \u001b[1;33m\u001b[0m\u001b[0m\n\u001b[0;32m      5\u001b[0m \u001b[0mi\u001b[0m\u001b[1;33m=\u001b[0m\u001b[1;36m2\u001b[0m\u001b[1;33m;\u001b[0m\u001b[1;33m\u001b[0m\u001b[1;33m\u001b[0m\u001b[0m\n",
      "\u001b[1;31mValueError\u001b[0m: invalid literal for int() with base 10: ''"
     ]
    }
   ],
   "source": [
    "num = int(input(\"enter a number:\"))\n",
    "\n",
    "isdivisible = False;\n",
    "\n",
    "i=2;\n",
    "\n",
    "while i<num:\n",
    "    if num%i ==0:\n",
    "        isdivisible = True;\n",
    "        print(\"{} is divisible by {}\".format(num,i))\n",
    "    i+=1;\n",
    "    \n",
    "if isdivisible:\n",
    "    print(\"{} is not a prime number\".format(num))\n",
    "else:\n",
    "    print(\"{} is a prime number\".format(num))"
   ]
  },
  {
   "cell_type": "markdown",
   "id": "893beb33",
   "metadata": {},
   "source": [
    "## pyhton for loop"
   ]
  },
  {
   "cell_type": "code",
   "execution_count": 65,
   "id": "f5f5c782",
   "metadata": {},
   "outputs": [
    {
     "name": "stdout",
     "output_type": "stream",
     "text": [
      "product is: 12000000\n"
     ]
    }
   ],
   "source": [
    "# find product of ll numbers present in a list\n",
    "\n",
    "lst = [10,20,30,40,50]\n",
    "\n",
    "product = 1\n",
    "\n",
    "for element in lst:\n",
    "    product *= element\n",
    "    \n",
    "print(\"product is: {}\".format(product))"
   ]
  },
  {
   "cell_type": "markdown",
   "id": "6afaf159",
   "metadata": {},
   "source": [
    "## range() function"
   ]
  },
  {
   "cell_type": "code",
   "execution_count": 66,
   "id": "43bd56c5",
   "metadata": {},
   "outputs": [
    {
     "name": "stdout",
     "output_type": "stream",
     "text": [
      "0\n",
      "1\n",
      "2\n",
      "3\n",
      "4\n",
      "5\n",
      "6\n",
      "7\n",
      "8\n",
      "9\n"
     ]
    }
   ],
   "source": [
    "#print range of 10\n",
    "\n",
    "for i in range(10):\n",
    "    print(i)"
   ]
  },
  {
   "cell_type": "code",
   "execution_count": 67,
   "id": "dfc4ed40",
   "metadata": {},
   "outputs": [
    {
     "name": "stdout",
     "output_type": "stream",
     "text": [
      "1\n",
      "3\n",
      "5\n",
      "7\n",
      "9\n",
      "11\n",
      "13\n",
      "15\n",
      "17\n",
      "19\n"
     ]
    }
   ],
   "source": [
    "# print range of numbers from 1 to 20 with step size of 2\n",
    "\n",
    "for i in range(1,20,2):\n",
    "    print(i)"
   ]
  },
  {
   "cell_type": "code",
   "execution_count": 68,
   "id": "d3021b5f",
   "metadata": {},
   "outputs": [
    {
     "name": "stdout",
     "output_type": "stream",
     "text": [
      "satish\n",
      "srinu\n",
      "murali\n",
      "naveen\n",
      "bramha\n"
     ]
    }
   ],
   "source": [
    "lst = [\"satish\",\"srinu\",\"murali\",\"naveen\",\"bramha\"]\n",
    "\n",
    "#iterate over the list using index\n",
    "for index in range(len(lst)):\n",
    "    print(lst[index])"
   ]
  },
  {
   "cell_type": "code",
   "execution_count": 69,
   "id": "7272af3d",
   "metadata": {},
   "outputs": [
    {
     "name": "stdout",
     "output_type": "stream",
     "text": [
      "satish\n",
      "srinu\n",
      "murali\n",
      "naveen\n",
      "bramha\n"
     ]
    }
   ],
   "source": [
    "for element in lst:\n",
    "    print(element)"
   ]
  },
  {
   "cell_type": "markdown",
   "id": "f82f951e",
   "metadata": {},
   "source": [
    "## python programe to print all prime numbers within an interval"
   ]
  },
  {
   "cell_type": "code",
   "execution_count": 70,
   "id": "b49b94a6",
   "metadata": {},
   "outputs": [
    {
     "name": "stdout",
     "output_type": "stream",
     "text": [
      "prime numbers between 10 and 50 are:\n",
      "11\n",
      "13\n",
      "17\n",
      "19\n",
      "23\n",
      "29\n",
      "31\n",
      "37\n",
      "41\n",
      "43\n",
      "47\n"
     ]
    }
   ],
   "source": [
    "index1 = 10\n",
    "index2 = 50\n",
    "\n",
    "print(\"prime numbers between {0} and {1} are:\".format(index1,index2))\n",
    "\n",
    "for num in range(index1,index2):\n",
    "    if num>1:\n",
    "        isdivisible = False;\n",
    "        for index in range(2,num):\n",
    "            if num % index == 0:\n",
    "                isdivisible = True;\n",
    "        if not isdivisible:\n",
    "            print(num);"
   ]
  },
  {
   "cell_type": "markdown",
   "id": "9a85a93c",
   "metadata": {},
   "source": [
    "## python break and continue statements"
   ]
  },
  {
   "cell_type": "code",
   "execution_count": 71,
   "id": "2ba8d215",
   "metadata": {},
   "outputs": [
    {
     "name": "stdout",
     "output_type": "stream",
     "text": [
      "1\n",
      "2\n",
      "3\n",
      "outside of for loop\n"
     ]
    }
   ],
   "source": [
    "numbers = [1,2,3,4,5]\n",
    "for num in numbers:\n",
    "    if num == 4:\n",
    "        break\n",
    "    print(num)\n",
    "else:\n",
    "    print(\"in the else block\")\n",
    "print(\"outside of for loop\")"
   ]
  },
  {
   "cell_type": "markdown",
   "id": "9dc73de5",
   "metadata": {},
   "source": [
    "## python program to check wheather the given number is prime or not( using break)"
   ]
  },
  {
   "cell_type": "code",
   "execution_count": 72,
   "id": "c9bdc024",
   "metadata": {},
   "outputs": [
    {
     "name": "stdout",
     "output_type": "stream",
     "text": [
      "enter a number: \n"
     ]
    },
    {
     "ename": "ValueError",
     "evalue": "invalid literal for int() with base 10: ''",
     "output_type": "error",
     "traceback": [
      "\u001b[1;31m---------------------------------------------------------------------------\u001b[0m",
      "\u001b[1;31mValueError\u001b[0m                                Traceback (most recent call last)",
      "\u001b[1;32m~\\AppData\\Local\\Temp\\ipykernel_3632\\2921379094.py\u001b[0m in \u001b[0;36m<module>\u001b[1;34m\u001b[0m\n\u001b[1;32m----> 1\u001b[1;33m \u001b[0mnum\u001b[0m \u001b[1;33m=\u001b[0m \u001b[0mint\u001b[0m \u001b[1;33m(\u001b[0m\u001b[0minput\u001b[0m\u001b[1;33m(\u001b[0m\u001b[1;34m\"enter a number: \"\u001b[0m\u001b[1;33m)\u001b[0m\u001b[1;33m)\u001b[0m    \u001b[1;31m#convert string to int\u001b[0m\u001b[1;33m\u001b[0m\u001b[1;33m\u001b[0m\u001b[0m\n\u001b[0m\u001b[0;32m      2\u001b[0m \u001b[1;33m\u001b[0m\u001b[0m\n\u001b[0;32m      3\u001b[0m \u001b[0misDivisible\u001b[0m \u001b[1;33m=\u001b[0m \u001b[1;32mFalse\u001b[0m\u001b[1;33m;\u001b[0m\u001b[1;33m\u001b[0m\u001b[1;33m\u001b[0m\u001b[0m\n\u001b[0;32m      4\u001b[0m \u001b[1;33m\u001b[0m\u001b[0m\n\u001b[0;32m      5\u001b[0m \u001b[0mi\u001b[0m\u001b[1;33m=\u001b[0m\u001b[1;36m2\u001b[0m\u001b[1;33m;\u001b[0m\u001b[1;33m\u001b[0m\u001b[1;33m\u001b[0m\u001b[0m\n",
      "\u001b[1;31mValueError\u001b[0m: invalid literal for int() with base 10: ''"
     ]
    }
   ],
   "source": [
    "num = int (input(\"enter a number: \"))    #convert string to int\n",
    "\n",
    "isDivisible = False;\n",
    "\n",
    "i=2;\n",
    "while i<num:\n",
    "    if num % i == 0:\n",
    "        isDivisible = True;\n",
    "        print(\"{} is divisible by {}\".format(num,i))\n",
    "        break;\n",
    "    i += 1;\n",
    "if isDivisible:\n",
    "    print(\"{} is not a prime number\".format(num))\n",
    "else:\n",
    "    print(\" {} is a prime number\".format(num))"
   ]
  },
  {
   "cell_type": "markdown",
   "id": "cd03aa52",
   "metadata": {},
   "source": [
    "## continue"
   ]
  },
  {
   "cell_type": "markdown",
   "id": "de3a585f",
   "metadata": {},
   "source": [
    "## example"
   ]
  },
  {
   "cell_type": "code",
   "execution_count": 73,
   "id": "fa447f70",
   "metadata": {},
   "outputs": [
    {
     "name": "stdout",
     "output_type": "stream",
     "text": [
      "1\n",
      "3\n",
      "5\n",
      "else-block\n"
     ]
    }
   ],
   "source": [
    "#print odd numbers present in a list\n",
    "numbers = [1,2,3,4,5]\n",
    "\n",
    "for num in numbers:\n",
    "    if num % 2 == 0:\n",
    "        continue\n",
    "    print(num)\n",
    "else:\n",
    "    print(\"else-block\")"
   ]
  },
  {
   "cell_type": "markdown",
   "id": "2852ed7f",
   "metadata": {},
   "source": [
    "## list creation"
   ]
  },
  {
   "cell_type": "code",
   "execution_count": 74,
   "id": "9a114065",
   "metadata": {},
   "outputs": [
    {
     "name": "stdout",
     "output_type": "stream",
     "text": [
      "[1, 'ramu', 24, 1.24]\n"
     ]
    }
   ],
   "source": [
    "emptyList = []\n",
    "\n",
    "lst = ['one','two','three','four'] #list of string\n",
    "\n",
    "lst2 = [1,2,3,4] #list of integers\n",
    "\n",
    "lst3 = [[1,2],[3,4]] #list of lists\n",
    "\n",
    "lst4 = [1,'ramu',24,1.24] #list of different datatypes\n",
    "\n",
    "print(lst4)"
   ]
  },
  {
   "cell_type": "markdown",
   "id": "0c4308bf",
   "metadata": {},
   "source": [
    "## list length"
   ]
  },
  {
   "cell_type": "code",
   "execution_count": 75,
   "id": "389ef752",
   "metadata": {},
   "outputs": [
    {
     "name": "stdout",
     "output_type": "stream",
     "text": [
      "4\n"
     ]
    }
   ],
   "source": [
    "lst = ['one','two','three','four']\n",
    "print(len(lst))"
   ]
  },
  {
   "cell_type": "markdown",
   "id": "f0ef62cd",
   "metadata": {},
   "source": [
    "## list append"
   ]
  },
  {
   "cell_type": "code",
   "execution_count": 76,
   "id": "4469785b",
   "metadata": {},
   "outputs": [
    {
     "name": "stdout",
     "output_type": "stream",
     "text": [
      "['one', 'two', 'three', 'four', 'five']\n"
     ]
    }
   ],
   "source": [
    "lst = ['one','two','three','four']\n",
    "\n",
    "lst.append('five')\n",
    "\n",
    "print(lst)"
   ]
  },
  {
   "cell_type": "markdown",
   "id": "08540d02",
   "metadata": {},
   "source": [
    "## list insert"
   ]
  },
  {
   "cell_type": "code",
   "execution_count": 77,
   "id": "506951a9",
   "metadata": {},
   "outputs": [
    {
     "name": "stdout",
     "output_type": "stream",
     "text": [
      "['one', 'two', 'three', 'four']\n"
     ]
    }
   ],
   "source": [
    "#syntax: lst.insert(x,y)\n",
    "\n",
    "lst = ['one','two','four']\n",
    "\n",
    "lst.insert(2,\"three\") #will add element y at location x\n",
    "\n",
    "print(lst)"
   ]
  },
  {
   "cell_type": "markdown",
   "id": "974b3a90",
   "metadata": {},
   "source": [
    "## list remove"
   ]
  },
  {
   "cell_type": "code",
   "execution_count": 78,
   "id": "17dabc76",
   "metadata": {},
   "outputs": [
    {
     "name": "stdout",
     "output_type": "stream",
     "text": [
      "['one', 'three', 'four', 'two']\n"
     ]
    }
   ],
   "source": [
    "#syntax:lst.remove(x)\n",
    "\n",
    "lst = ['one','two','three','four','two']\n",
    "\n",
    "lst.remove('two') #it will remove first occurance of 'two' in agiven list\n",
    "\n",
    "print(lst)"
   ]
  },
  {
   "cell_type": "markdown",
   "id": "d066a2bf",
   "metadata": {},
   "source": [
    "## list append and extend"
   ]
  },
  {
   "cell_type": "code",
   "execution_count": 79,
   "id": "ff7ae217",
   "metadata": {},
   "outputs": [
    {
     "name": "stdout",
     "output_type": "stream",
     "text": [
      "['one', 'two', 'three', 'four', ['five', 'six']]\n"
     ]
    }
   ],
   "source": [
    "lst = ['one','two','three','four']\n",
    "\n",
    "lst2 = ['five','six']\n",
    "\n",
    "#append\n",
    "lst.append(lst2)\n",
    "\n",
    "print(lst)"
   ]
  },
  {
   "cell_type": "code",
   "execution_count": 80,
   "id": "f7fb3734",
   "metadata": {},
   "outputs": [
    {
     "name": "stdout",
     "output_type": "stream",
     "text": [
      "['one', 'two', 'three', 'four', 'five', 'six']\n"
     ]
    }
   ],
   "source": [
    "lst = ['one','two','three','four']\n",
    "\n",
    "lst2 = ['five','six']\n",
    "\n",
    "#extend will join the list with lst1\n",
    "\n",
    "lst.extend(lst2)\n",
    "\n",
    "print(lst)"
   ]
  },
  {
   "cell_type": "markdown",
   "id": "cedf199f",
   "metadata": {},
   "source": [
    "## list delete"
   ]
  },
  {
   "cell_type": "code",
   "execution_count": 81,
   "id": "b8bf8db3",
   "metadata": {},
   "outputs": [
    {
     "name": "stdout",
     "output_type": "stream",
     "text": [
      "['one', 'three', 'four', 'five']\n",
      "three\n",
      "['one', 'four', 'five']\n"
     ]
    }
   ],
   "source": [
    "#del to remove item based on index position\n",
    "\n",
    "lst = ['one','two','three','four','five']\n",
    "\n",
    "del lst[1]\n",
    "print(lst)\n",
    "\n",
    "#or we can use pop() method\n",
    "\n",
    "a = lst.pop(1)\n",
    "print(a)\n",
    "print(lst)"
   ]
  },
  {
   "cell_type": "markdown",
   "id": "2c0a5145",
   "metadata": {},
   "source": [
    "## list related keywords in python"
   ]
  },
  {
   "cell_type": "code",
   "execution_count": 82,
   "id": "9a721ef9",
   "metadata": {},
   "outputs": [
    {
     "name": "stdout",
     "output_type": "stream",
     "text": [
      "AI\n",
      "ML\n"
     ]
    }
   ],
   "source": [
    "# keyword 'in' is used to test if an item is in a list\n",
    "\n",
    "lst = ['one','two','three','four']\n",
    "\n",
    "if 'two' in lst:\n",
    "    print('AI')\n",
    "    \n",
    "#keyword 'not' can combined with 'in'\n",
    "if 'six' not in lst:\n",
    "    print('ML')"
   ]
  },
  {
   "cell_type": "markdown",
   "id": "c8ea9ca7",
   "metadata": {},
   "source": [
    "## list reverse"
   ]
  },
  {
   "cell_type": "code",
   "execution_count": 83,
   "id": "5828a720",
   "metadata": {},
   "outputs": [
    {
     "name": "stdout",
     "output_type": "stream",
     "text": [
      "['four', 'three', 'two', 'one']\n"
     ]
    }
   ],
   "source": [
    "# reverse the entire list\n",
    "\n",
    "lst = ['one','two','three','four']\n",
    "\n",
    "lst.reverse()\n",
    "\n",
    "print(lst)"
   ]
  },
  {
   "cell_type": "markdown",
   "id": "1b976825",
   "metadata": {},
   "source": [
    "## list sorting"
   ]
  },
  {
   "cell_type": "code",
   "execution_count": 84,
   "id": "4e3b5f34",
   "metadata": {},
   "outputs": [
    {
     "name": "stdout",
     "output_type": "stream",
     "text": [
      "sorted list:  [1, 2, 3, 6, 7, 9, 12, 64]\n",
      "original list: [3, 1, 2, 9, 6, 7, 12, 64]\n"
     ]
    }
   ],
   "source": [
    "## create a list with numbers\n",
    "\n",
    "numbers = [3,1,2,9,6,7,12,64]\n",
    "\n",
    "sorted_lst = sorted(numbers)\n",
    "\n",
    "print(\"sorted list: \",sorted_lst)\n",
    "\n",
    "#original list remains unchanged\n",
    "print(\"original list:\",numbers)"
   ]
  },
  {
   "cell_type": "code",
   "execution_count": 85,
   "id": "cd1987ee",
   "metadata": {},
   "outputs": [
    {
     "name": "stdout",
     "output_type": "stream",
     "text": [
      "reverse sorted list:  [64, 12, 9, 7, 6, 3, 2, 1]\n",
      "original list: [3, 1, 2, 9, 6, 7, 12, 64]\n"
     ]
    }
   ],
   "source": [
    "# print a list in revers sorted order\n",
    "\n",
    "print(\"reverse sorted list: \",sorted(numbers,reverse=True))\n",
    "\n",
    "#original list remains unchanged\n",
    "print(\"original list:\",numbers)"
   ]
  },
  {
   "cell_type": "code",
   "execution_count": 86,
   "id": "0ae43548",
   "metadata": {},
   "outputs": [
    {
     "name": "stdout",
     "output_type": "stream",
     "text": [
      "sorted list  ['four', 'three', 'two', 'one']\n"
     ]
    }
   ],
   "source": [
    "numbers = [3,1,2,9,6,7,12,64]\n",
    "\n",
    "#sort the list and stored in itself\n",
    "numbers.sort()\n",
    "\n",
    "#add element 'a' to the list to show an error\n",
    "print(\"sorted list \",lst)"
   ]
  },
  {
   "cell_type": "code",
   "execution_count": 87,
   "id": "c859790d",
   "metadata": {},
   "outputs": [
    {
     "ename": "TypeError",
     "evalue": "'<' not supported between instances of 'str' and 'int'",
     "output_type": "error",
     "traceback": [
      "\u001b[1;31m---------------------------------------------------------------------------\u001b[0m",
      "\u001b[1;31mTypeError\u001b[0m                                 Traceback (most recent call last)",
      "\u001b[1;32m~\\AppData\\Local\\Temp\\ipykernel_3632\\4275344380.py\u001b[0m in \u001b[0;36m<module>\u001b[1;34m\u001b[0m\n\u001b[0;32m      1\u001b[0m \u001b[0mlst\u001b[0m\u001b[1;33m=\u001b[0m\u001b[1;33m[\u001b[0m\u001b[1;36m1\u001b[0m\u001b[1;33m,\u001b[0m\u001b[1;36m20\u001b[0m\u001b[1;33m,\u001b[0m\u001b[1;34m'b'\u001b[0m\u001b[1;33m,\u001b[0m\u001b[1;36m5\u001b[0m\u001b[1;33m,\u001b[0m\u001b[1;34m'a'\u001b[0m\u001b[1;33m]\u001b[0m\u001b[1;33m\u001b[0m\u001b[1;33m\u001b[0m\u001b[0m\n\u001b[1;32m----> 2\u001b[1;33m \u001b[0mprint\u001b[0m\u001b[1;33m(\u001b[0m\u001b[0mlst\u001b[0m\u001b[1;33m.\u001b[0m\u001b[0msort\u001b[0m\u001b[1;33m(\u001b[0m\u001b[1;33m)\u001b[0m\u001b[1;33m)\u001b[0m\u001b[1;33m\u001b[0m\u001b[1;33m\u001b[0m\u001b[0m\n\u001b[0m",
      "\u001b[1;31mTypeError\u001b[0m: '<' not supported between instances of 'str' and 'int'"
     ]
    }
   ],
   "source": [
    "lst=[1,20,'b',5,'a']\n",
    "print(lst.sort())"
   ]
  },
  {
   "cell_type": "markdown",
   "id": "1b3e4d34",
   "metadata": {},
   "source": [
    "## string split to create a list"
   ]
  },
  {
   "cell_type": "code",
   "execution_count": 88,
   "id": "a0952e52",
   "metadata": {},
   "outputs": [
    {
     "name": "stdout",
     "output_type": "stream",
     "text": [
      "['one', 'two', 'three', 'four', 'five']\n"
     ]
    }
   ],
   "source": [
    "#lets take a string\n",
    "\n",
    "s = \"one,two,three,four,five\"\n",
    "slst = s.split(',')\n",
    "print(slst)"
   ]
  },
  {
   "cell_type": "code",
   "execution_count": 89,
   "id": "10f0f228",
   "metadata": {},
   "outputs": [
    {
     "name": "stdout",
     "output_type": "stream",
     "text": [
      "['this', 'is', 'applied', 'AI', 'course']\n"
     ]
    }
   ],
   "source": [
    "s = \"this is applied AI course\"\n",
    "split_lst = s.split()\n",
    "print(split_lst)"
   ]
  },
  {
   "cell_type": "markdown",
   "id": "b63cc039",
   "metadata": {},
   "source": [
    "## list indexing"
   ]
  },
  {
   "cell_type": "code",
   "execution_count": 90,
   "id": "eb66bf98",
   "metadata": {},
   "outputs": [
    {
     "name": "stdout",
     "output_type": "stream",
     "text": [
      "2\n",
      "5\n"
     ]
    }
   ],
   "source": [
    "lst = [1,2,3,4,5]\n",
    "\n",
    "print(lst[1]) #print second element\n",
    "\n",
    "#print lst element usinfg negative index\n",
    "print(lst[-1])"
   ]
  },
  {
   "cell_type": "markdown",
   "id": "418c2fab",
   "metadata": {},
   "source": [
    "## list slicing"
   ]
  },
  {
   "cell_type": "code",
   "execution_count": 91,
   "id": "252fdd41",
   "metadata": {},
   "outputs": [
    {
     "name": "stdout",
     "output_type": "stream",
     "text": [
      "[10, 20, 30, 40, 50, 60, 70, 80]\n",
      "[10, 20, 30, 40]\n"
     ]
    }
   ],
   "source": [
    "numbers = [10,20,30,40,50,60,70,80]\n",
    "\n",
    "#print all numbers\n",
    "print(numbers[:])\n",
    "\n",
    "#print from index 0 to 3\n",
    "print(numbers[0:4])"
   ]
  },
  {
   "cell_type": "code",
   "execution_count": 92,
   "id": "70c1db62",
   "metadata": {},
   "outputs": [
    {
     "name": "stdout",
     "output_type": "stream",
     "text": [
      "[10, 20, 30, 40, 50, 60, 70, 80]\n",
      "[10, 30, 50, 70]\n",
      "[30, 50, 70]\n"
     ]
    }
   ],
   "source": [
    "print(numbers)\n",
    "#print alternate elements in a list\n",
    "print(numbers[::2])  ## numbers[start:end:stepsize]\n",
    "\n",
    "#print elements start from 0 through rest of the list\n",
    "print(numbers[2::2])"
   ]
  },
  {
   "cell_type": "markdown",
   "id": "e1e743d4",
   "metadata": {},
   "source": [
    "## list extended using \"+\""
   ]
  },
  {
   "cell_type": "code",
   "execution_count": 93,
   "id": "2e060ca8",
   "metadata": {},
   "outputs": [
    {
     "name": "stdout",
     "output_type": "stream",
     "text": [
      "[1, 2, 3, 4, 'verma', 'naveen', 'murali', 'brahma']\n"
     ]
    }
   ],
   "source": [
    "lst1 = [1,2,3,4]\n",
    "lst2 = ['verma','naveen','murali','brahma']\n",
    "\n",
    "new_list = lst1 + lst2\n",
    "\n",
    "print(new_list)"
   ]
  },
  {
   "cell_type": "markdown",
   "id": "e5a58d95",
   "metadata": {},
   "source": [
    "## list count"
   ]
  },
  {
   "cell_type": "code",
   "execution_count": 94,
   "id": "54167b32",
   "metadata": {},
   "outputs": [
    {
     "name": "stdout",
     "output_type": "stream",
     "text": [
      "2\n",
      "2\n"
     ]
    }
   ],
   "source": [
    "numbers = [1,2,3,1,3,4,8,2,5]\n",
    "\n",
    "#frequency of 1 in alist\n",
    "print(numbers.count(1))\n",
    "\n",
    "#frequency of 2 in alist\n",
    "print(numbers.count(2))"
   ]
  },
  {
   "cell_type": "markdown",
   "id": "f7c3160e",
   "metadata": {},
   "source": [
    "## list looping"
   ]
  },
  {
   "cell_type": "code",
   "execution_count": 95,
   "id": "d4a84843",
   "metadata": {},
   "outputs": [
    {
     "name": "stdout",
     "output_type": "stream",
     "text": [
      "one\n",
      "two\n",
      "three\n",
      "four\n"
     ]
    }
   ],
   "source": [
    "#loop through a list\n",
    "\n",
    "lst = ['one','two','three','four']\n",
    "for ele in lst:\n",
    "    print(ele)"
   ]
  },
  {
   "cell_type": "markdown",
   "id": "2523ae4a",
   "metadata": {},
   "source": [
    "## list comprehension"
   ]
  },
  {
   "cell_type": "code",
   "execution_count": 96,
   "id": "27cd7bda",
   "metadata": {},
   "outputs": [
    {
     "name": "stdout",
     "output_type": "stream",
     "text": [
      "[0, 1, 4, 9, 16, 25, 36, 49, 64, 81]\n"
     ]
    }
   ],
   "source": [
    "# without list comprehension\n",
    "squares = []\n",
    "\n",
    "for i in range(10):\n",
    "    squares.append(i**2)\n",
    "print(squares)"
   ]
  },
  {
   "cell_type": "code",
   "execution_count": 97,
   "id": "40118597",
   "metadata": {},
   "outputs": [
    {
     "name": "stdout",
     "output_type": "stream",
     "text": [
      "[0, 1, 4, 9, 16, 25, 36, 49, 64, 81]\n"
     ]
    }
   ],
   "source": [
    "# using list comprehension\n",
    "\n",
    "squares = [i**2 for i in range(10)]\n",
    "print(squares)"
   ]
  },
  {
   "cell_type": "code",
   "execution_count": 98,
   "id": "cd96ae6b",
   "metadata": {},
   "outputs": [
    {
     "name": "stdout",
     "output_type": "stream",
     "text": [
      "[-20, -40, 20, 40, 100]\n",
      "[10, 20, 50]\n",
      "[(0, 0), (1, 1), (2, 4), (3, 9), (4, 16), (5, 25), (6, 36), (7, 49), (8, 64), (9, 81)]\n"
     ]
    }
   ],
   "source": [
    "# example\n",
    "\n",
    "lst = [-10,-20,10,20,50]\n",
    "\n",
    "#create a new list with values double\n",
    "new_lst = [i*2 for i in lst]\n",
    "print(new_lst)\n",
    "\n",
    "#filter the list to exclude negative numbers\n",
    "new_lst = [i for i in lst if i>=0]\n",
    "print(new_lst)\n",
    "\n",
    "##create a list of tupples like (numbers,square_of_number)\n",
    "new_lst = [(i,i**2) for i in range(10)]\n",
    "print(new_lst)"
   ]
  },
  {
   "cell_type": "markdown",
   "id": "987a46ae",
   "metadata": {},
   "source": [
    "## nested list comprehension"
   ]
  },
  {
   "cell_type": "code",
   "execution_count": 99,
   "id": "2b818505",
   "metadata": {},
   "outputs": [
    {
     "name": "stdout",
     "output_type": "stream",
     "text": [
      "[[1, 5, 9], [2, 6, 10], [3, 7, 11], [4, 8, 12]]\n"
     ]
    }
   ],
   "source": [
    "#lets supose we have a matrix\n",
    "\n",
    "matrix=[\n",
    "    [1,2,3,4],\n",
    "    [5,6,7,8],\n",
    "    [9,10,11,12]\n",
    "]\n",
    "\n",
    "# transpose of a matrix without list comprehension\n",
    "\n",
    "transposed = []\n",
    "\n",
    "for i in range(4):\n",
    "    lst = []\n",
    "    for row in matrix:\n",
    "        lst.append(row[i])\n",
    "    transposed.append(lst)\n",
    "    \n",
    "print(transposed)"
   ]
  },
  {
   "cell_type": "code",
   "execution_count": 100,
   "id": "ae72915e",
   "metadata": {},
   "outputs": [
    {
     "name": "stdout",
     "output_type": "stream",
     "text": [
      "[[1, 5, 9], [2, 6, 10], [3, 7, 11], [4, 8, 12]]\n"
     ]
    }
   ],
   "source": [
    "# with list comprehension\n",
    "\n",
    "transposed = [[row[i] for row in matrix] for i in range(4)]\n",
    "print(transposed)"
   ]
  },
  {
   "cell_type": "markdown",
   "id": "7030d268",
   "metadata": {},
   "source": [
    "## tuples\n",
    "\n",
    "a tuple is similar to list\n",
    "\n",
    "the difference between the two is that we cant change the elements of tuple once it is assigned where as in the list, elements can be changed."
   ]
  },
  {
   "cell_type": "code",
   "execution_count": 101,
   "id": "6f0f1e3e",
   "metadata": {},
   "outputs": [
    {
     "name": "stdout",
     "output_type": "stream",
     "text": [
      "(1, 2, 3)\n",
      "(1, 'raju', 28, 'abc')\n",
      "(1, (2, 3, 4), [1, 'raju', 28, 'abc'])\n"
     ]
    }
   ],
   "source": [
    "# eempty tuple\n",
    "\n",
    "t=()\n",
    "\n",
    "#tuple having integers\n",
    "t=(1,2,3)\n",
    "print(t)\n",
    "\n",
    "#tuple with mixed datatypes\n",
    "t = (1,'raju',28,'abc')\n",
    "print(t)\n",
    "\n",
    "#nested tuple\n",
    "t = (1,(2,3,4),[1,'raju',28,'abc'])\n",
    "print(t)"
   ]
  },
  {
   "cell_type": "code",
   "execution_count": 102,
   "id": "f500dea0",
   "metadata": {},
   "outputs": [
    {
     "data": {
      "text/plain": [
       "str"
      ]
     },
     "execution_count": 102,
     "metadata": {},
     "output_type": "execute_result"
    }
   ],
   "source": [
    "# only paranthesis is not enough\n",
    "t = ('satish')\n",
    "type(t)"
   ]
  },
  {
   "cell_type": "code",
   "execution_count": 103,
   "id": "38644d38",
   "metadata": {},
   "outputs": [
    {
     "data": {
      "text/plain": [
       "tuple"
      ]
     },
     "execution_count": 103,
     "metadata": {},
     "output_type": "execute_result"
    }
   ],
   "source": [
    "# need a comma at the end\n",
    "t = ('satish',)\n",
    "type(t)"
   ]
  },
  {
   "cell_type": "code",
   "execution_count": 104,
   "id": "ecf74712",
   "metadata": {},
   "outputs": [
    {
     "name": "stdout",
     "output_type": "stream",
     "text": [
      "<class 'tuple'>\n",
      "('satish',)\n"
     ]
    }
   ],
   "source": [
    "# paranthesis is optional\n",
    "\n",
    "t = \"satish\",\n",
    "\n",
    "print(type(t))\n",
    "\n",
    "print(t)"
   ]
  },
  {
   "cell_type": "markdown",
   "id": "20d0ce20",
   "metadata": {},
   "source": [
    "## accesing elements in tuple"
   ]
  },
  {
   "cell_type": "code",
   "execution_count": 105,
   "id": "8bf07f87",
   "metadata": {},
   "outputs": [
    {
     "name": "stdout",
     "output_type": "stream",
     "text": [
      "murali\n"
     ]
    }
   ],
   "source": [
    "t = ('satish','murali','naveen','srinu','brahma')\n",
    "print(t[1])"
   ]
  },
  {
   "cell_type": "code",
   "execution_count": 106,
   "id": "511b1830",
   "metadata": {},
   "outputs": [
    {
     "name": "stdout",
     "output_type": "stream",
     "text": [
      "brahma\n"
     ]
    }
   ],
   "source": [
    "#negative index\n",
    "print(t[-1]) #print last element in a tuple"
   ]
  },
  {
   "cell_type": "code",
   "execution_count": 107,
   "id": "c2a64d2f",
   "metadata": {},
   "outputs": [
    {
     "name": "stdout",
     "output_type": "stream",
     "text": [
      "('satish', 'naveen', 'srinu')\n"
     ]
    }
   ],
   "source": [
    "#nested tuple\n",
    "t = ('ABC',('satish','naveen','srinu'))\n",
    "\n",
    "print(t[1])"
   ]
  },
  {
   "cell_type": "code",
   "execution_count": 108,
   "id": "47212336",
   "metadata": {},
   "outputs": [
    {
     "name": "stdout",
     "output_type": "stream",
     "text": [
      "srinu\n"
     ]
    }
   ],
   "source": [
    "print(t[1][2])"
   ]
  },
  {
   "cell_type": "code",
   "execution_count": 109,
   "id": "2477d836",
   "metadata": {},
   "outputs": [
    {
     "name": "stdout",
     "output_type": "stream",
     "text": [
      "(2, 3, 4)\n",
      "(1, 2, 3, 4)\n",
      "(1, 2, 3, 4, 5, 6)\n"
     ]
    }
   ],
   "source": [
    "#slicing\n",
    "t = (1,2,3,4,5,6)\n",
    "\n",
    "print(t[1:4])\n",
    "\n",
    "#print elements from starting to 2nd last elements\n",
    "print(t[:-2])\n",
    "\n",
    "#print elements from starting to end\n",
    "print(t[:])"
   ]
  },
  {
   "cell_type": "code",
   "execution_count": 110,
   "id": "19ef8ab4",
   "metadata": {},
   "outputs": [
    {
     "ename": "TypeError",
     "evalue": "'tuple' object does not support item assignment",
     "output_type": "error",
     "traceback": [
      "\u001b[1;31m---------------------------------------------------------------------------\u001b[0m",
      "\u001b[1;31mTypeError\u001b[0m                                 Traceback (most recent call last)",
      "\u001b[1;32m~\\AppData\\Local\\Temp\\ipykernel_3632\\3719995207.py\u001b[0m in \u001b[0;36m<module>\u001b[1;34m\u001b[0m\n\u001b[0;32m      1\u001b[0m \u001b[0mt\u001b[0m \u001b[1;33m=\u001b[0m \u001b[1;33m(\u001b[0m\u001b[1;36m1\u001b[0m\u001b[1;33m,\u001b[0m\u001b[1;36m2\u001b[0m\u001b[1;33m,\u001b[0m\u001b[1;36m3\u001b[0m\u001b[1;33m,\u001b[0m\u001b[1;36m4\u001b[0m\u001b[1;33m,\u001b[0m\u001b[1;33m[\u001b[0m\u001b[1;36m5\u001b[0m\u001b[1;33m,\u001b[0m\u001b[1;36m6\u001b[0m\u001b[1;33m,\u001b[0m\u001b[1;36m7\u001b[0m\u001b[1;33m]\u001b[0m\u001b[1;33m)\u001b[0m\u001b[1;33m\u001b[0m\u001b[1;33m\u001b[0m\u001b[0m\n\u001b[1;32m----> 2\u001b[1;33m \u001b[0mt\u001b[0m\u001b[1;33m[\u001b[0m\u001b[1;36m2\u001b[0m\u001b[1;33m]\u001b[0m \u001b[1;33m=\u001b[0m \u001b[1;34m'x'\u001b[0m \u001b[1;31m# will get type error\u001b[0m\u001b[1;33m\u001b[0m\u001b[1;33m\u001b[0m\u001b[0m\n\u001b[0m",
      "\u001b[1;31mTypeError\u001b[0m: 'tuple' object does not support item assignment"
     ]
    }
   ],
   "source": [
    "t = (1,2,3,4,[5,6,7])\n",
    "t[2] = 'x' # will get type error"
   ]
  },
  {
   "cell_type": "code",
   "execution_count": 111,
   "id": "eaec9efd",
   "metadata": {},
   "outputs": [
    {
     "name": "stdout",
     "output_type": "stream",
     "text": [
      "(1, 2, 3, 4, [5, 'satish', 7])\n"
     ]
    }
   ],
   "source": [
    "t[4][1] = 'satish' #will not get error because that element is list\n",
    "print(t)"
   ]
  },
  {
   "cell_type": "code",
   "execution_count": 112,
   "id": "35e12066",
   "metadata": {},
   "outputs": [
    {
     "name": "stdout",
     "output_type": "stream",
     "text": [
      "(1, 2, 3, 4, 5, 6)\n"
     ]
    }
   ],
   "source": [
    "# concatinating tuples\n",
    "\n",
    "t = (1,2,3)+(4,5,6)\n",
    "print(t)"
   ]
  },
  {
   "cell_type": "code",
   "execution_count": 113,
   "id": "7f035ead",
   "metadata": {},
   "outputs": [
    {
     "name": "stdout",
     "output_type": "stream",
     "text": [
      "('satish', 'satish', 'satish', 'satish')\n"
     ]
    }
   ],
   "source": [
    "# repeat the elements in a tuple for a given number of times using the * operation\n",
    "\n",
    "t = (('satish',)*4)\n",
    "print(t)"
   ]
  },
  {
   "cell_type": "markdown",
   "id": "391af320",
   "metadata": {},
   "source": [
    "## tuple deletion"
   ]
  },
  {
   "cell_type": "code",
   "execution_count": 114,
   "id": "4b4c8595",
   "metadata": {},
   "outputs": [],
   "source": [
    "# we cannot change the elements in tuple.\n",
    "\n",
    "#that also means we cannot delet or remove items from the tuple.\n",
    "\n",
    "#delet entire tuple using del keyword\n",
    "t=(1,2,3,4,5,6,7)\n",
    "\n",
    "#delete entire tuple\n",
    "del t"
   ]
  },
  {
   "cell_type": "markdown",
   "id": "98d11c60",
   "metadata": {},
   "source": [
    "## tuple count"
   ]
  },
  {
   "cell_type": "code",
   "execution_count": 115,
   "id": "e68180af",
   "metadata": {},
   "outputs": [
    {
     "data": {
      "text/plain": [
       "2"
      ]
     },
     "execution_count": 115,
     "metadata": {},
     "output_type": "execute_result"
    }
   ],
   "source": [
    "t=(1,2,3,4,1,4,6,8,7,6,5,4,6,5,4)\n",
    "t.count(5)"
   ]
  },
  {
   "cell_type": "markdown",
   "id": "5f84fb6f",
   "metadata": {},
   "source": [
    "## tuple index"
   ]
  },
  {
   "cell_type": "code",
   "execution_count": 116,
   "id": "4202e5f4",
   "metadata": {},
   "outputs": [
    {
     "name": "stdout",
     "output_type": "stream",
     "text": [
      "2\n"
     ]
    }
   ],
   "source": [
    " t=(1,2,3,1,3,3,4,1)\n",
    "\n",
    "print(t.index(3)) # return of index of the first element is equal to 3\n",
    "\n",
    "#print index of the 1"
   ]
  },
  {
   "cell_type": "markdown",
   "id": "58463ba0",
   "metadata": {},
   "source": [
    "## tuple membership"
   ]
  },
  {
   "cell_type": "code",
   "execution_count": 117,
   "id": "754eddeb",
   "metadata": {},
   "outputs": [
    {
     "name": "stdout",
     "output_type": "stream",
     "text": [
      "True\n"
     ]
    }
   ],
   "source": [
    "# test if an item exist in a tuple or not,using the keyword in.\n",
    "\n",
    "t = (1,2,3,4,5,6)\n",
    "\n",
    "print(1 in t)"
   ]
  },
  {
   "cell_type": "code",
   "execution_count": 118,
   "id": "1f6ff213",
   "metadata": {},
   "outputs": [
    {
     "name": "stdout",
     "output_type": "stream",
     "text": [
      "False\n"
     ]
    }
   ],
   "source": [
    "print(7 in t)"
   ]
  },
  {
   "cell_type": "markdown",
   "id": "3d9c6824",
   "metadata": {},
   "source": [
    "## built in functions"
   ]
  },
  {
   "cell_type": "markdown",
   "id": "a915ff9a",
   "metadata": {},
   "source": [
    "## tuple length"
   ]
  },
  {
   "cell_type": "code",
   "execution_count": 119,
   "id": "1e985da1",
   "metadata": {},
   "outputs": [
    {
     "name": "stdout",
     "output_type": "stream",
     "text": [
      "6\n"
     ]
    }
   ],
   "source": [
    "t = (1,2,3,4,5,6)\n",
    "print(len(t))"
   ]
  },
  {
   "cell_type": "markdown",
   "id": "64d47652",
   "metadata": {},
   "source": [
    "## tuple sort"
   ]
  },
  {
   "cell_type": "code",
   "execution_count": 120,
   "id": "75f29402",
   "metadata": {},
   "outputs": [
    {
     "name": "stdout",
     "output_type": "stream",
     "text": [
      "[1, 2, 3, 4, 5]\n"
     ]
    }
   ],
   "source": [
    "t = (4,5,1,2,3)\n",
    "\n",
    "new_t = sorted(t) #take elementds inthe tuple and return a new sorted list\n",
    "print(new_t)"
   ]
  },
  {
   "cell_type": "code",
   "execution_count": 121,
   "id": "ad4dbc99",
   "metadata": {},
   "outputs": [
    {
     "name": "stdout",
     "output_type": "stream",
     "text": [
      "1\n"
     ]
    }
   ],
   "source": [
    "# get the smalest elemet in the tuple\n",
    "print(min(t))"
   ]
  },
  {
   "cell_type": "code",
   "execution_count": 122,
   "id": "69a8b739",
   "metadata": {},
   "outputs": [
    {
     "name": "stdout",
     "output_type": "stream",
     "text": [
      "5\n"
     ]
    }
   ],
   "source": [
    "# get the largest elemet in the tuple\n",
    "print(max(t))"
   ]
  },
  {
   "cell_type": "code",
   "execution_count": 123,
   "id": "55573def",
   "metadata": {},
   "outputs": [
    {
     "name": "stdout",
     "output_type": "stream",
     "text": [
      "15\n"
     ]
    }
   ],
   "source": [
    "#get sum of elements in the tuple\n",
    "print(sum(t))"
   ]
  },
  {
   "cell_type": "markdown",
   "id": "3baeee74",
   "metadata": {},
   "source": [
    "## sets\n",
    "\n",
    "-a set is an unordered collection of items. every element is unique(no duplicates).\n",
    "\n",
    "-the set itself is mutable. we can add or remove items from it.\n",
    "\n",
    "-sets can be used to perform mathematical set operations like union, intersection, symmetric difference etc."
   ]
  },
  {
   "cell_type": "markdown",
   "id": "f06bf516",
   "metadata": {},
   "source": [
    "## sets creation"
   ]
  },
  {
   "cell_type": "code",
   "execution_count": 124,
   "id": "98e940f7",
   "metadata": {},
   "outputs": [
    {
     "name": "stdout",
     "output_type": "stream",
     "text": [
      "{1, 2, 3}\n",
      "<class 'set'>\n"
     ]
    }
   ],
   "source": [
    "# sets of integers\n",
    "s={1,2,3}\n",
    "print(s)\n",
    "print(type(s))"
   ]
  },
  {
   "cell_type": "code",
   "execution_count": 125,
   "id": "02cf8b78",
   "metadata": {},
   "outputs": [
    {
     "name": "stdout",
     "output_type": "stream",
     "text": [
      "{1, 2, 3, 4, 5, 6}\n"
     ]
    }
   ],
   "source": [
    "#set doesnt allow duplicates. they store only one instance.\n",
    "s={1,2,3,6,1,4,2,5}\n",
    "print(s)"
   ]
  },
  {
   "cell_type": "code",
   "execution_count": 126,
   "id": "8d09af08",
   "metadata": {},
   "outputs": [
    {
     "name": "stdout",
     "output_type": "stream",
     "text": [
      "{1, 2, 3}\n"
     ]
    }
   ],
   "source": [
    "#we can make set from a list\n",
    "s = set([1,2,3,1])\n",
    "print(s)"
   ]
  },
  {
   "cell_type": "code",
   "execution_count": 127,
   "id": "bd460d6c",
   "metadata": {},
   "outputs": [
    {
     "name": "stdout",
     "output_type": "stream",
     "text": [
      "<class 'set'>\n"
     ]
    }
   ],
   "source": [
    "# initialize set with a set() method\n",
    "s = set()\n",
    "\n",
    "print(type(s))"
   ]
  },
  {
   "cell_type": "markdown",
   "id": "7e3b004d",
   "metadata": {},
   "source": [
    "## add element to a set"
   ]
  },
  {
   "cell_type": "code",
   "execution_count": 128,
   "id": "95d64663",
   "metadata": {},
   "outputs": [
    {
     "ename": "TypeError",
     "evalue": "'set' object is not subscriptable",
     "output_type": "error",
     "traceback": [
      "\u001b[1;31m---------------------------------------------------------------------------\u001b[0m",
      "\u001b[1;31mTypeError\u001b[0m                                 Traceback (most recent call last)",
      "\u001b[1;32m~\\AppData\\Local\\Temp\\ipykernel_3632\\1438493817.py\u001b[0m in \u001b[0;36m<module>\u001b[1;34m\u001b[0m\n\u001b[0;32m      5\u001b[0m \u001b[1;33m\u001b[0m\u001b[0m\n\u001b[0;32m      6\u001b[0m \u001b[1;31m#set object doesnt support indexing\u001b[0m\u001b[1;33m\u001b[0m\u001b[1;33m\u001b[0m\u001b[0m\n\u001b[1;32m----> 7\u001b[1;33m \u001b[0mprint\u001b[0m\u001b[1;33m(\u001b[0m\u001b[0ms\u001b[0m\u001b[1;33m[\u001b[0m\u001b[1;36m1\u001b[0m\u001b[1;33m]\u001b[0m\u001b[1;33m)\u001b[0m\u001b[1;33m\u001b[0m\u001b[1;33m\u001b[0m\u001b[0m\n\u001b[0m",
      "\u001b[1;31mTypeError\u001b[0m: 'set' object is not subscriptable"
     ]
    }
   ],
   "source": [
    "#we can add single elemnet using add() method and\n",
    "#add multiple elements using update() method\n",
    "\n",
    "s={1,3}\n",
    "\n",
    "#set object doesnt support indexing\n",
    "print(s[1])"
   ]
  },
  {
   "cell_type": "code",
   "execution_count": 129,
   "id": "1a21032b",
   "metadata": {},
   "outputs": [
    {
     "name": "stdout",
     "output_type": "stream",
     "text": [
      "{1, 2, 3}\n"
     ]
    }
   ],
   "source": [
    "# add elemnt\n",
    "s.add(2)\n",
    "print(s)"
   ]
  },
  {
   "cell_type": "code",
   "execution_count": 130,
   "id": "13986a88",
   "metadata": {},
   "outputs": [
    {
     "name": "stdout",
     "output_type": "stream",
     "text": [
      "{1, 2, 3, 5, 6}\n"
     ]
    }
   ],
   "source": [
    "#add multiple elements\n",
    "s.update([5,6,1])\n",
    "print(s)"
   ]
  },
  {
   "cell_type": "code",
   "execution_count": 131,
   "id": "84408729",
   "metadata": {},
   "outputs": [
    {
     "name": "stdout",
     "output_type": "stream",
     "text": [
      "{1, 2, 3, 5, 6, 8, 9, 10}\n"
     ]
    }
   ],
   "source": [
    "#add lisrt and set\n",
    "s.update([8,9],{10,2,3})\n",
    "print(s)"
   ]
  },
  {
   "cell_type": "code",
   "execution_count": 132,
   "id": "21a545d2",
   "metadata": {},
   "outputs": [
    {
     "name": "stdout",
     "output_type": "stream",
     "text": [
      "{1, 2, 3, 5, 6, 8, 9, 10}\n"
     ]
    }
   ],
   "source": [
    "#add list and set\n",
    "s.update([8,9],{10,2,3})\n",
    "print(s)"
   ]
  },
  {
   "cell_type": "markdown",
   "id": "55c93448",
   "metadata": {},
   "source": [
    "## remove elements from a set"
   ]
  },
  {
   "cell_type": "code",
   "execution_count": 133,
   "id": "9e354aab",
   "metadata": {},
   "outputs": [
    {
     "name": "stdout",
     "output_type": "stream",
     "text": [
      "{1, 2, 3, 4, 5}\n",
      "{1, 2, 3, 5}\n"
     ]
    }
   ],
   "source": [
    "#a particular item can be removed from a set using methods,\n",
    "#discard() and remove().\n",
    "\n",
    "s={1,2,3,5,4}\n",
    "print(s)\n",
    "\n",
    "s.discard(4)  #4 is removed from the set\n",
    "\n",
    "print(s)"
   ]
  },
  {
   "cell_type": "code",
   "execution_count": 134,
   "id": "6a81b5c1",
   "metadata": {},
   "outputs": [
    {
     "name": "stdout",
     "output_type": "stream",
     "text": [
      "{1, 3, 5}\n"
     ]
    }
   ],
   "source": [
    "#remove an element\n",
    "s.remove(2)\n",
    "print(s)"
   ]
  },
  {
   "cell_type": "code",
   "execution_count": 135,
   "id": "e727968f",
   "metadata": {},
   "outputs": [
    {
     "ename": "KeyError",
     "evalue": "7",
     "output_type": "error",
     "traceback": [
      "\u001b[1;31m---------------------------------------------------------------------------\u001b[0m",
      "\u001b[1;31mKeyError\u001b[0m                                  Traceback (most recent call last)",
      "\u001b[1;32m~\\AppData\\Local\\Temp\\ipykernel_3632\\218627111.py\u001b[0m in \u001b[0;36m<module>\u001b[1;34m\u001b[0m\n\u001b[0;32m      1\u001b[0m \u001b[1;31m#remove an element not present in a set s\u001b[0m\u001b[1;33m\u001b[0m\u001b[1;33m\u001b[0m\u001b[0m\n\u001b[1;32m----> 2\u001b[1;33m \u001b[0ms\u001b[0m\u001b[1;33m.\u001b[0m\u001b[0mremove\u001b[0m\u001b[1;33m(\u001b[0m\u001b[1;36m7\u001b[0m\u001b[1;33m)\u001b[0m \u001b[1;31m#will get KeyError\u001b[0m\u001b[1;33m\u001b[0m\u001b[1;33m\u001b[0m\u001b[0m\n\u001b[0m",
      "\u001b[1;31mKeyError\u001b[0m: 7"
     ]
    }
   ],
   "source": [
    "#remove an element not present in a set s\n",
    "s.remove(7) #will get KeyError"
   ]
  },
  {
   "cell_type": "code",
   "execution_count": 136,
   "id": "3dbb738b",
   "metadata": {},
   "outputs": [
    {
     "name": "stdout",
     "output_type": "stream",
     "text": [
      "{1, 3, 5}\n"
     ]
    }
   ],
   "source": [
    "#discard an element not present in a set s\n",
    "\n",
    "s.discard(7)\n",
    "print(s)"
   ]
  },
  {
   "cell_type": "code",
   "execution_count": 137,
   "id": "93a51414",
   "metadata": {},
   "outputs": [
    {
     "name": "stdout",
     "output_type": "stream",
     "text": [
      "{2, 3, 4, 5}\n"
     ]
    }
   ],
   "source": [
    "# we can remove item using pop() method\n",
    "\n",
    "s = {1,2,3,5,4}\n",
    "\n",
    "s.pop()  #remove randim element\n",
    "\n",
    "print(s)"
   ]
  },
  {
   "cell_type": "code",
   "execution_count": 138,
   "id": "d0580984",
   "metadata": {},
   "outputs": [
    {
     "name": "stdout",
     "output_type": "stream",
     "text": [
      "{3, 4, 5}\n"
     ]
    }
   ],
   "source": [
    "s.pop()\n",
    "print(s)"
   ]
  },
  {
   "cell_type": "code",
   "execution_count": 139,
   "id": "d156be68",
   "metadata": {},
   "outputs": [
    {
     "name": "stdout",
     "output_type": "stream",
     "text": [
      "set()\n"
     ]
    }
   ],
   "source": [
    "s ={1,5,2,3,6}\n",
    "s.clear()  #remove all items in set using clear() method\n",
    "print(s)"
   ]
  },
  {
   "cell_type": "markdown",
   "id": "12a58dd1",
   "metadata": {},
   "source": [
    "## python set operations"
   ]
  },
  {
   "cell_type": "code",
   "execution_count": 140,
   "id": "bc88b17c",
   "metadata": {},
   "outputs": [
    {
     "name": "stdout",
     "output_type": "stream",
     "text": [
      "{1, 2, 3, 4, 5, 6, 7}\n"
     ]
    }
   ],
   "source": [
    "set1 = {1,2,3,4,5}\n",
    "set2 = {3,4,5,6,7}\n",
    "\n",
    "# union of 2 sets using | operator\n",
    "print(set1|set2)"
   ]
  },
  {
   "cell_type": "code",
   "execution_count": 141,
   "id": "0e6effd2",
   "metadata": {},
   "outputs": [
    {
     "name": "stdout",
     "output_type": "stream",
     "text": [
      "{1, 2, 3, 4, 5, 6, 7}\n"
     ]
    }
   ],
   "source": [
    "#another way of geting union of 2 sets\n",
    "print(set1.union(set2))"
   ]
  },
  {
   "cell_type": "code",
   "execution_count": 142,
   "id": "36bfccbe",
   "metadata": {},
   "outputs": [
    {
     "name": "stdout",
     "output_type": "stream",
     "text": [
      "{3, 4, 5}\n"
     ]
    }
   ],
   "source": [
    "# intersection of 2 sets using and operator\n",
    "print(set1 & set2)"
   ]
  },
  {
   "cell_type": "code",
   "execution_count": 143,
   "id": "397b6e2c",
   "metadata": {},
   "outputs": [
    {
     "name": "stdout",
     "output_type": "stream",
     "text": [
      "{1, 2}\n"
     ]
    }
   ],
   "source": [
    "#set difference: set of elements tht are only in set1 but not set2\n",
    "\n",
    "print(set1-set2)"
   ]
  },
  {
   "cell_type": "code",
   "execution_count": 144,
   "id": "8071fc14",
   "metadata": {},
   "outputs": [
    {
     "name": "stdout",
     "output_type": "stream",
     "text": [
      "{1, 2}\n"
     ]
    }
   ],
   "source": [
    "#use difference function\n",
    "print(set1.difference(set2))"
   ]
  },
  {
   "cell_type": "code",
   "execution_count": 145,
   "id": "855ffcfe",
   "metadata": {},
   "outputs": [
    {
     "name": "stdout",
     "output_type": "stream",
     "text": [
      "{1, 2, 6, 7}\n"
     ]
    }
   ],
   "source": [
    "\"\"\" symetric difference: set of elements that are present in both set1 and set2 #except thosw that that are common in both\"\"\"\n",
    "\n",
    "#use ^ operator\n",
    "print(set1^set2)"
   ]
  },
  {
   "cell_type": "code",
   "execution_count": 146,
   "id": "ef3460fc",
   "metadata": {},
   "outputs": [
    {
     "name": "stdout",
     "output_type": "stream",
     "text": [
      "{1, 2, 6, 7}\n"
     ]
    }
   ],
   "source": [
    "#use symmetric difference function\n",
    "print(set1.symmetric_difference(set2))"
   ]
  },
  {
   "cell_type": "code",
   "execution_count": 147,
   "id": "49d5705d",
   "metadata": {},
   "outputs": [
    {
     "name": "stdout",
     "output_type": "stream",
     "text": [
      "set 'x is subset of 'y ? False\n",
      "set 'y' is subset of 'x' ? True\n"
     ]
    }
   ],
   "source": [
    "# find issubset()\n",
    "x={\"a\",\"b\",\"c\",\"d\",\"e\"}\n",
    "y={\"c\",\"d\"}\n",
    "\n",
    "print(\"set 'x is subset of 'y ?\",x.issubset(y))  #check x is subset of y\n",
    "\n",
    "#check y is subset of x\n",
    "print(\"set 'y' is subset of 'x' ?\",y.issubset(x))"
   ]
  },
  {
   "cell_type": "markdown",
   "id": "4fc5e941",
   "metadata": {},
   "source": [
    "## frozen sets\n",
    "\n",
    "- while tuples are immutable lists, frozen sets are immutable sets.\n",
    "- frozensets can be created using the function frozenset().\n",
    "- this datatype supports methods like copy(), difference(), intersection(), isdisjoint(), issubset(), issuperset(), symmetric_difference() and union().being immutable, it doesnot have method thart add or remive elements,"
   ]
  },
  {
   "cell_type": "code",
   "execution_count": 148,
   "id": "4d57614a",
   "metadata": {},
   "outputs": [
    {
     "ename": "AttributeError",
     "evalue": "'frozenset' object has no attribute 'add'",
     "output_type": "error",
     "traceback": [
      "\u001b[1;31m---------------------------------------------------------------------------\u001b[0m",
      "\u001b[1;31mAttributeError\u001b[0m                            Traceback (most recent call last)",
      "\u001b[1;32m~\\AppData\\Local\\Temp\\ipykernel_3632\\2393896801.py\u001b[0m in \u001b[0;36m<module>\u001b[1;34m\u001b[0m\n\u001b[0;32m      3\u001b[0m \u001b[1;33m\u001b[0m\u001b[0m\n\u001b[0;32m      4\u001b[0m \u001b[1;31m#try to add elements into set1 gives an error\u001b[0m\u001b[1;33m\u001b[0m\u001b[1;33m\u001b[0m\u001b[0m\n\u001b[1;32m----> 5\u001b[1;33m \u001b[0mset1\u001b[0m\u001b[1;33m.\u001b[0m\u001b[0madd\u001b[0m\u001b[1;33m(\u001b[0m\u001b[1;36m5\u001b[0m\u001b[1;33m)\u001b[0m\u001b[1;33m\u001b[0m\u001b[1;33m\u001b[0m\u001b[0m\n\u001b[0m",
      "\u001b[1;31mAttributeError\u001b[0m: 'frozenset' object has no attribute 'add'"
     ]
    }
   ],
   "source": [
    "set1 = frozenset([1,2,3,4])\n",
    "set2 = frozenset([3,4,5,6])\n",
    "\n",
    "#try to add elements into set1 gives an error\n",
    "set1.add(5)"
   ]
  },
  {
   "cell_type": "code",
   "execution_count": 149,
   "id": "07ba0192",
   "metadata": {},
   "outputs": [
    {
     "name": "stdout",
     "output_type": "stream",
     "text": [
      "frozenset({1, 2, 3, 4, 5, 6})\n"
     ]
    }
   ],
   "source": [
    "print(set1|set2) #union of 2 sets"
   ]
  },
  {
   "cell_type": "code",
   "execution_count": 150,
   "id": "c6ccf2b2",
   "metadata": {},
   "outputs": [
    {
     "name": "stdout",
     "output_type": "stream",
     "text": [
      "frozenset({3, 4})\n",
      "frozenset({3, 4})\n"
     ]
    }
   ],
   "source": [
    "#intersection of 2 sets\n",
    "print(set1 & set2)\n",
    "\n",
    "#or\n",
    "print(set1.intersection(set2))"
   ]
  },
  {
   "cell_type": "code",
   "execution_count": 151,
   "id": "d188c99b",
   "metadata": {},
   "outputs": [
    {
     "name": "stdout",
     "output_type": "stream",
     "text": [
      "frozenset({1, 2, 5, 6})\n",
      "frozenset({1, 2, 5, 6})\n"
     ]
    }
   ],
   "source": [
    "#use ^ operator\n",
    "print(set1^set2)\n",
    "\n",
    "#or\n",
    "#use difference function\n",
    "print(set1.symmetric_difference(set2))"
   ]
  },
  {
   "cell_type": "markdown",
   "id": "bf333443",
   "metadata": {},
   "source": [
    "## dictionary\n",
    "\n",
    "- python dictionary is an unordered collection of items. while other compound data types have only value as an element, adictionary has a key: value pair."
   ]
  },
  {
   "cell_type": "code",
   "execution_count": 152,
   "id": "84a24260",
   "metadata": {},
   "outputs": [
    {
     "name": "stdout",
     "output_type": "stream",
     "text": [
      "{1: 'abc', 2: 'xyz'}\n",
      "{'name': 'satish', 1: ['abc', 'xyz']}\n",
      "{1: 'abc', 2: 'xyz'}\n"
     ]
    }
   ],
   "source": [
    "#empty dictionary\n",
    "my_dict = {}\n",
    "\n",
    "#dictionary with integer keys\n",
    "my_dict = {1:'abc',2:'xyz'}\n",
    "print(my_dict)\n",
    "\n",
    "#dictionary with mixed keys\n",
    "my_dict = {'name':'satish',1:['abc','xyz']}\n",
    "print(my_dict)\n",
    "\n",
    "#create empty dictionary using dict()\n",
    "my_dict = dict()\n",
    "\n",
    "my_dict = dict([(1,'abc'),(2,'xyz')]) #create a dict with list of tuples\n",
    "print(my_dict)"
   ]
  },
  {
   "cell_type": "markdown",
   "id": "d0b3c412",
   "metadata": {},
   "source": [
    "## dict access"
   ]
  },
  {
   "cell_type": "code",
   "execution_count": 153,
   "id": "cbaade18",
   "metadata": {},
   "outputs": [
    {
     "name": "stdout",
     "output_type": "stream",
     "text": [
      "satish\n",
      "27\n",
      "guntur\n"
     ]
    }
   ],
   "source": [
    "my_dict = {'name':'satish','age':27,'address':'guntur'}\n",
    "\n",
    "#get name\n",
    "print(my_dict['name'])\n",
    "print(my_dict['age'])\n",
    "print(my_dict['address'])"
   ]
  },
  {
   "cell_type": "code",
   "execution_count": 154,
   "id": "13024faf",
   "metadata": {},
   "outputs": [
    {
     "ename": "KeyError",
     "evalue": "'degree'",
     "output_type": "error",
     "traceback": [
      "\u001b[1;31m---------------------------------------------------------------------------\u001b[0m",
      "\u001b[1;31mKeyError\u001b[0m                                  Traceback (most recent call last)",
      "\u001b[1;32m~\\AppData\\Local\\Temp\\ipykernel_3632\\343240999.py\u001b[0m in \u001b[0;36m<module>\u001b[1;34m\u001b[0m\n\u001b[0;32m      1\u001b[0m \u001b[1;31m#if key is not present it gives key error\u001b[0m\u001b[1;33m\u001b[0m\u001b[1;33m\u001b[0m\u001b[0m\n\u001b[1;32m----> 2\u001b[1;33m \u001b[0mprint\u001b[0m\u001b[1;33m(\u001b[0m\u001b[0mmy_dict\u001b[0m\u001b[1;33m[\u001b[0m\u001b[1;34m'degree'\u001b[0m\u001b[1;33m]\u001b[0m\u001b[1;33m)\u001b[0m\u001b[1;33m\u001b[0m\u001b[1;33m\u001b[0m\u001b[0m\n\u001b[0m",
      "\u001b[1;31mKeyError\u001b[0m: 'degree'"
     ]
    }
   ],
   "source": [
    "#if key is not present it gives key error\n",
    "print(my_dict['degree'])"
   ]
  },
  {
   "cell_type": "code",
   "execution_count": 155,
   "id": "cb9d19d7",
   "metadata": {},
   "outputs": [
    {
     "name": "stdout",
     "output_type": "stream",
     "text": [
      "guntur\n"
     ]
    }
   ],
   "source": [
    "#another way of accessing key\n",
    "print(my_dict.get('address'))"
   ]
  },
  {
   "cell_type": "code",
   "execution_count": 156,
   "id": "e5cb58de",
   "metadata": {},
   "outputs": [
    {
     "name": "stdout",
     "output_type": "stream",
     "text": [
      "None\n"
     ]
    }
   ],
   "source": [
    "#if key is not present it will give none using get method\n",
    "print(my_dict.get('degree'))"
   ]
  },
  {
   "cell_type": "markdown",
   "id": "4716ea37",
   "metadata": {},
   "source": [
    "## dict add or modify element"
   ]
  },
  {
   "cell_type": "code",
   "execution_count": 157,
   "id": "d11c06c8",
   "metadata": {},
   "outputs": [
    {
     "name": "stdout",
     "output_type": "stream",
     "text": [
      "{'name': 'raju', 'age': 27, 'address': 'guntur'}\n"
     ]
    }
   ],
   "source": [
    "my_dict = {'name':'satish','age':27,'address':'guntur'}\n",
    "\n",
    "#update name\n",
    "my_dict['name'] = 'raju'\n",
    "print(my_dict)"
   ]
  },
  {
   "cell_type": "code",
   "execution_count": 158,
   "id": "3e400ba3",
   "metadata": {},
   "outputs": [
    {
     "name": "stdout",
     "output_type": "stream",
     "text": [
      "{'name': 'raju', 'age': 27, 'address': 'guntur', 'degree': 'm.tech'}\n"
     ]
    }
   ],
   "source": [
    "#add new key\n",
    "my_dict['degree']='m.tech'\n",
    "print(my_dict)"
   ]
  },
  {
   "cell_type": "code",
   "execution_count": 159,
   "id": "ae84cb58",
   "metadata": {},
   "outputs": [
    {
     "name": "stdout",
     "output_type": "stream",
     "text": [
      "{'name': 'satish', 'age': 27}\n"
     ]
    }
   ],
   "source": [
    "my_dict = {'name':'satish','age':27,'address':'guntur'}\n",
    "\n",
    "#remove an arbitary key\n",
    "my_dict.popitem()\n",
    "print(my_dict)"
   ]
  },
  {
   "cell_type": "code",
   "execution_count": 160,
   "id": "f5e06344",
   "metadata": {},
   "outputs": [
    {
     "name": "stdout",
     "output_type": "stream",
     "text": [
      "{3: 9, 4: 16, 5: 25}\n"
     ]
    }
   ],
   "source": [
    "squares = {2:4,3:9,4:16,5:25}\n",
    "\n",
    "#delet particular key\n",
    "del squares[2]\n",
    "print(squares)"
   ]
  },
  {
   "cell_type": "code",
   "execution_count": 161,
   "id": "c4f8feb5",
   "metadata": {},
   "outputs": [
    {
     "name": "stdout",
     "output_type": "stream",
     "text": [
      "{}\n"
     ]
    }
   ],
   "source": [
    "#remove all items\n",
    "squares.clear()\n",
    "print(squares)"
   ]
  },
  {
   "cell_type": "code",
   "execution_count": 162,
   "id": "72b402f5",
   "metadata": {},
   "outputs": [
    {
     "ename": "NameError",
     "evalue": "name 'squares' is not defined",
     "output_type": "error",
     "traceback": [
      "\u001b[1;31m---------------------------------------------------------------------------\u001b[0m",
      "\u001b[1;31mNameError\u001b[0m                                 Traceback (most recent call last)",
      "\u001b[1;32m~\\AppData\\Local\\Temp\\ipykernel_3632\\920080227.py\u001b[0m in \u001b[0;36m<module>\u001b[1;34m\u001b[0m\n\u001b[0;32m      3\u001b[0m \u001b[1;31m#delet dictionary itself\u001b[0m\u001b[1;33m\u001b[0m\u001b[1;33m\u001b[0m\u001b[0m\n\u001b[0;32m      4\u001b[0m \u001b[1;32mdel\u001b[0m \u001b[0msquares\u001b[0m\u001b[1;33m\u001b[0m\u001b[1;33m\u001b[0m\u001b[0m\n\u001b[1;32m----> 5\u001b[1;33m \u001b[0mprint\u001b[0m\u001b[1;33m(\u001b[0m\u001b[0msquares\u001b[0m\u001b[1;33m)\u001b[0m \u001b[1;31m#nameError because dict is deleted\u001b[0m\u001b[1;33m\u001b[0m\u001b[1;33m\u001b[0m\u001b[0m\n\u001b[0m",
      "\u001b[1;31mNameError\u001b[0m: name 'squares' is not defined"
     ]
    }
   ],
   "source": [
    "squares = {2:4,3:9,4:16,5:25}\n",
    "\n",
    "#delet dictionary itself\n",
    "del squares\n",
    "print(squares) #nameError because dict is deleted"
   ]
  },
  {
   "cell_type": "markdown",
   "id": "a31522da",
   "metadata": {},
   "source": [
    "## dictionary methods"
   ]
  },
  {
   "cell_type": "code",
   "execution_count": 163,
   "id": "55df2dec",
   "metadata": {},
   "outputs": [
    {
     "name": "stdout",
     "output_type": "stream",
     "text": [
      "{2: 4, 3: 9, 4: 16, 5: 25}\n"
     ]
    }
   ],
   "source": [
    "squares = {2:4,3:9,4:16,5:25}\n",
    "\n",
    "my_dict = squares.copy()\n",
    "print(my_dict)"
   ]
  },
  {
   "cell_type": "code",
   "execution_count": 164,
   "id": "514a6f5f",
   "metadata": {},
   "outputs": [
    {
     "name": "stdout",
     "output_type": "stream",
     "text": [
      "{'math': 0, 'english': 0, 'hindi': 0}\n"
     ]
    }
   ],
   "source": [
    "#fromkeys[seq[,v]] -> return a new dictionary with keys from seq and value\n",
    "subjects = {}.fromkeys(['math','english','hindi'],0)\n",
    "print(subjects)"
   ]
  },
  {
   "cell_type": "code",
   "execution_count": 165,
   "id": "bced3376",
   "metadata": {},
   "outputs": [
    {
     "name": "stdout",
     "output_type": "stream",
     "text": [
      "dict_items([(2, 4), (3, 9), (4, 16), (5, 25)])\n"
     ]
    }
   ],
   "source": [
    "subjects = {2:4,3:9,4:16,5:25}\n",
    "print(subjects.items()) #rerturn a new view of the dictionary items(keys,value)"
   ]
  },
  {
   "cell_type": "code",
   "execution_count": 166,
   "id": "6949ba69",
   "metadata": {},
   "outputs": [
    {
     "name": "stdout",
     "output_type": "stream",
     "text": [
      "dict_keys([2, 3, 4, 5])\n"
     ]
    }
   ],
   "source": [
    "subjects = {2:4,3:9,4:16,5:25}\n",
    "print(subjects.keys()) #return a new view of the dictionary keys"
   ]
  },
  {
   "cell_type": "code",
   "execution_count": 167,
   "id": "afb5bc76",
   "metadata": {},
   "outputs": [
    {
     "name": "stdout",
     "output_type": "stream",
     "text": [
      "dict_values([4, 9, 16, 25])\n"
     ]
    }
   ],
   "source": [
    "subjects={2:4,3:9,4:16,5:25}\n",
    "print(subjects.values()) #return a new view of the dictionary values"
   ]
  },
  {
   "cell_type": "code",
   "execution_count": 168,
   "id": "54f31268",
   "metadata": {},
   "outputs": [
    {
     "name": "stdout",
     "output_type": "stream",
     "text": [
      "['__class__', '__class_getitem__', '__contains__', '__delattr__', '__delitem__', '__dir__', '__doc__', '__eq__', '__format__', '__ge__', '__getattribute__', '__getitem__', '__gt__', '__hash__', '__init__', '__init_subclass__', '__ior__', '__iter__', '__le__', '__len__', '__lt__', '__ne__', '__new__', '__or__', '__reduce__', '__reduce_ex__', '__repr__', '__reversed__', '__ror__', '__setattr__', '__setitem__', '__sizeof__', '__str__', '__subclasshook__', 'clear', 'copy', 'fromkeys', 'get', 'items', 'keys', 'pop', 'popitem', 'setdefault', 'update', 'values']\n"
     ]
    }
   ],
   "source": [
    "#get list of all available methods and attributes of dictionary\n",
    "d={}\n",
    "print(dir(d))"
   ]
  },
  {
   "cell_type": "markdown",
   "id": "96537ea1",
   "metadata": {},
   "source": [
    "## dict comprehension"
   ]
  },
  {
   "cell_type": "code",
   "execution_count": 169,
   "id": "2e7fb3fc",
   "metadata": {},
   "outputs": [
    {
     "name": "stdout",
     "output_type": "stream",
     "text": [
      "('a', 1)\n",
      "('b', 2)\n",
      "('c', 3)\n"
     ]
    }
   ],
   "source": [
    "#dict comprehension are just like list comprehensions but for dictionaries\n",
    "\n",
    "d={'a':1,'b':2,'c':3}\n",
    "for pair in d.items():\n",
    "    print(pair)"
   ]
  },
  {
   "cell_type": "code",
   "execution_count": 170,
   "id": "86788d51",
   "metadata": {},
   "outputs": [
    {
     "name": "stdout",
     "output_type": "stream",
     "text": [
      "{'c': 3, 'd': 4}\n"
     ]
    }
   ],
   "source": [
    "#creating a new dictionary with only pairs where the value is larger than 2\n",
    "d={'a':1,'b':2,'c':3,'d':4}\n",
    "new_dict = {k:v for k, v in d.items() if v>2}\n",
    "print(new_dict)"
   ]
  },
  {
   "cell_type": "code",
   "execution_count": 171,
   "id": "4577c275",
   "metadata": {},
   "outputs": [
    {
     "name": "stdout",
     "output_type": "stream",
     "text": [
      "{'cc': 6, 'dc': 8, 'ec': 10}\n"
     ]
    }
   ],
   "source": [
    "# we can also perform opertations on the key value pairs\n",
    "d={'a':1,'b':2,'c':3,'d':4,'e':5}\n",
    "d={k+'c':v* 2 for k,v in d.items() if v>2}\n",
    "print(d)"
   ]
  },
  {
   "cell_type": "markdown",
   "id": "3c19360b",
   "metadata": {},
   "source": [
    "## strings"
   ]
  },
  {
   "cell_type": "code",
   "execution_count": 172,
   "id": "d7a5044b",
   "metadata": {},
   "outputs": [
    {
     "name": "stdout",
     "output_type": "stream",
     "text": [
      "hello\n",
      "hello\n",
      "hello\n"
     ]
    }
   ],
   "source": [
    "my_string = 'hello'\n",
    "print(my_string)\n",
    "\n",
    "my_string = \"hello\"\n",
    "print(my_string)\n",
    "\n",
    "my_string = '''hello'''\n",
    "print(my_string)"
   ]
  },
  {
   "cell_type": "markdown",
   "id": "0cf77a37",
   "metadata": {},
   "source": [
    "## how to access charecter in string"
   ]
  },
  {
   "cell_type": "code",
   "execution_count": 173,
   "id": "722f3957",
   "metadata": {},
   "outputs": [
    {
     "name": "stdout",
     "output_type": "stream",
     "text": [
      "h\n",
      "o\n",
      "llo\n"
     ]
    }
   ],
   "source": [
    "my_string = \"hello\"\n",
    "\n",
    "#print first character\n",
    "print(my_string[0])\n",
    "\n",
    "#print last character using negative indexing\n",
    "print(my_string[-1])\n",
    "\n",
    "#slicing 2nd to 5th character\n",
    "print(my_string[2:5])"
   ]
  },
  {
   "cell_type": "markdown",
   "id": "b1fc84c9",
   "metadata": {},
   "source": [
    "- if we try to access index out of the range or use decimal no. we will get errors."
   ]
  },
  {
   "cell_type": "code",
   "execution_count": 174,
   "id": "bfa36dbe",
   "metadata": {},
   "outputs": [
    {
     "ename": "IndexError",
     "evalue": "string index out of range",
     "output_type": "error",
     "traceback": [
      "\u001b[1;31m---------------------------------------------------------------------------\u001b[0m",
      "\u001b[1;31mIndexError\u001b[0m                                Traceback (most recent call last)",
      "\u001b[1;32m~\\AppData\\Local\\Temp\\ipykernel_3632\\3114732302.py\u001b[0m in \u001b[0;36m<module>\u001b[1;34m\u001b[0m\n\u001b[1;32m----> 1\u001b[1;33m \u001b[0mprint\u001b[0m\u001b[1;33m(\u001b[0m\u001b[0mmy_string\u001b[0m\u001b[1;33m[\u001b[0m\u001b[1;36m15\u001b[0m\u001b[1;33m]\u001b[0m\u001b[1;33m)\u001b[0m\u001b[1;33m\u001b[0m\u001b[1;33m\u001b[0m\u001b[0m\n\u001b[0m",
      "\u001b[1;31mIndexError\u001b[0m: string index out of range"
     ]
    }
   ],
   "source": [
    "print(my_string[15])"
   ]
  },
  {
   "cell_type": "markdown",
   "id": "c0c92e02",
   "metadata": {},
   "source": [
    "## how to change or delete a string\n",
    "\n",
    "- strings are immutable. this means that elements of a string cannot be changed once it has been assigned.\n",
    "- we can simply reassign different strings to the same name."
   ]
  },
  {
   "cell_type": "code",
   "execution_count": 175,
   "id": "0204f156",
   "metadata": {},
   "outputs": [
    {
     "ename": "TypeError",
     "evalue": "'str' object does not support item assignment",
     "output_type": "error",
     "traceback": [
      "\u001b[1;31m---------------------------------------------------------------------------\u001b[0m",
      "\u001b[1;31mTypeError\u001b[0m                                 Traceback (most recent call last)",
      "\u001b[1;32m~\\AppData\\Local\\Temp\\ipykernel_3632\\3042867242.py\u001b[0m in \u001b[0;36m<module>\u001b[1;34m\u001b[0m\n\u001b[0;32m      1\u001b[0m \u001b[0mmy_string\u001b[0m \u001b[1;33m=\u001b[0m \u001b[1;34m\"hello\"\u001b[0m\u001b[1;33m\u001b[0m\u001b[1;33m\u001b[0m\u001b[0m\n\u001b[1;32m----> 2\u001b[1;33m \u001b[0mmy_string\u001b[0m\u001b[1;33m[\u001b[0m\u001b[1;36m4\u001b[0m\u001b[1;33m]\u001b[0m \u001b[1;33m=\u001b[0m \u001b[1;34m's'\u001b[0m \u001b[1;31m#strings are immutable\u001b[0m\u001b[1;33m\u001b[0m\u001b[1;33m\u001b[0m\u001b[0m\n\u001b[0m",
      "\u001b[1;31mTypeError\u001b[0m: 'str' object does not support item assignment"
     ]
    }
   ],
   "source": [
    "my_string = \"hello\"\n",
    "my_string[4] = 's' #strings are immutable"
   ]
  },
  {
   "cell_type": "markdown",
   "id": "175c1512",
   "metadata": {},
   "source": [
    "- we cannot delete or remove a character from a string. but deleting the string is entirely posible using the keyword del."
   ]
  },
  {
   "cell_type": "code",
   "execution_count": 176,
   "id": "f55888a0",
   "metadata": {},
   "outputs": [],
   "source": [
    "del my_string #delete complete string"
   ]
  },
  {
   "cell_type": "code",
   "execution_count": 177,
   "id": "e406fd09",
   "metadata": {},
   "outputs": [
    {
     "ename": "NameError",
     "evalue": "name 'my_string' is not defined",
     "output_type": "error",
     "traceback": [
      "\u001b[1;31m---------------------------------------------------------------------------\u001b[0m",
      "\u001b[1;31mNameError\u001b[0m                                 Traceback (most recent call last)",
      "\u001b[1;32m~\\AppData\\Local\\Temp\\ipykernel_3632\\1387504986.py\u001b[0m in \u001b[0;36m<module>\u001b[1;34m\u001b[0m\n\u001b[1;32m----> 1\u001b[1;33m \u001b[0mprint\u001b[0m\u001b[1;33m(\u001b[0m\u001b[0mmy_string\u001b[0m\u001b[1;33m)\u001b[0m\u001b[1;33m\u001b[0m\u001b[1;33m\u001b[0m\u001b[0m\n\u001b[0m",
      "\u001b[1;31mNameError\u001b[0m: name 'my_string' is not defined"
     ]
    }
   ],
   "source": [
    "print(my_string)"
   ]
  },
  {
   "cell_type": "markdown",
   "id": "b9187d1d",
   "metadata": {},
   "source": [
    "## string operations"
   ]
  },
  {
   "cell_type": "code",
   "execution_count": 178,
   "id": "dd41a50a",
   "metadata": {},
   "outputs": [
    {
     "name": "stdout",
     "output_type": "stream",
     "text": [
      "hello satish\n",
      "hello hello hello \n"
     ]
    }
   ],
   "source": [
    "s1 = \"hello \"\n",
    "s2 = \"satish\"\n",
    "\n",
    "#concatination of 2 strings\n",
    "print(s1+s2)\n",
    "\n",
    "#repeate string n times\n",
    "print(s1*3)"
   ]
  },
  {
   "cell_type": "markdown",
   "id": "4b01eb31",
   "metadata": {},
   "source": [
    "## iterating through string"
   ]
  },
  {
   "cell_type": "code",
   "execution_count": 179,
   "id": "cb0f973e",
   "metadata": {},
   "outputs": [
    {
     "name": "stdout",
     "output_type": "stream",
     "text": [
      "2 letters found\n"
     ]
    }
   ],
   "source": [
    "count = 0\n",
    "for l in \"hello world\":\n",
    "    if l == 'o':\n",
    "        count += 1\n",
    "print(count,'letters found')"
   ]
  },
  {
   "cell_type": "markdown",
   "id": "5f8b6581",
   "metadata": {},
   "source": [
    "## string membership test"
   ]
  },
  {
   "cell_type": "code",
   "execution_count": 180,
   "id": "6e13ec2a",
   "metadata": {},
   "outputs": [
    {
     "name": "stdout",
     "output_type": "stream",
     "text": [
      "True\n"
     ]
    }
   ],
   "source": [
    "print('l' in 'hello world') #in operator to test membership"
   ]
  },
  {
   "cell_type": "code",
   "execution_count": 181,
   "id": "3ca46694",
   "metadata": {},
   "outputs": [
    {
     "name": "stdout",
     "output_type": "stream",
     "text": [
      "True\n"
     ]
    }
   ],
   "source": [
    "print('or' in 'hello world')"
   ]
  },
  {
   "cell_type": "markdown",
   "id": "1912d1e2",
   "metadata": {},
   "source": [
    "## string methods"
   ]
  },
  {
   "cell_type": "code",
   "execution_count": 182,
   "id": "fad2e17b",
   "metadata": {},
   "outputs": [
    {
     "data": {
      "text/plain": [
       "'hello'"
      ]
     },
     "execution_count": 182,
     "metadata": {},
     "output_type": "execute_result"
    }
   ],
   "source": [
    "\"hello\".lower()"
   ]
  },
  {
   "cell_type": "code",
   "execution_count": 183,
   "id": "dc24b4f2",
   "metadata": {},
   "outputs": [
    {
     "data": {
      "text/plain": [
       "'HELLO'"
      ]
     },
     "execution_count": 183,
     "metadata": {},
     "output_type": "execute_result"
    }
   ],
   "source": [
    "\"hello\".upper()"
   ]
  },
  {
   "cell_type": "code",
   "execution_count": 184,
   "id": "14dc7631",
   "metadata": {},
   "outputs": [
    {
     "data": {
      "text/plain": [
       "['this', 'will', 'split', 'all', 'words', 'in', 'a', 'list']"
      ]
     },
     "execution_count": 184,
     "metadata": {},
     "output_type": "execute_result"
    }
   ],
   "source": [
    "\"this will split all words in a list\".split()"
   ]
  },
  {
   "cell_type": "code",
   "execution_count": 185,
   "id": "1f676450",
   "metadata": {},
   "outputs": [
    {
     "data": {
      "text/plain": [
       "'this will split all words in a list'"
      ]
     },
     "execution_count": 185,
     "metadata": {},
     "output_type": "execute_result"
    }
   ],
   "source": [
    "' '.join(['this', 'will', 'split', 'all', 'words', 'in', 'a', 'list'])"
   ]
  },
  {
   "cell_type": "code",
   "execution_count": 186,
   "id": "c58728f8",
   "metadata": {},
   "outputs": [
    {
     "data": {
      "text/plain": [
       "5"
      ]
     },
     "execution_count": 186,
     "metadata": {},
     "output_type": "execute_result"
    }
   ],
   "source": [
    "\"good morning\".find(\"mo\")"
   ]
  },
  {
   "cell_type": "code",
   "execution_count": 187,
   "id": "ac91d72d",
   "metadata": {},
   "outputs": [
    {
     "data": {
      "text/plain": [
       "'good morning'"
      ]
     },
     "execution_count": 187,
     "metadata": {},
     "output_type": "execute_result"
    }
   ],
   "source": [
    "\"bad morning\".replace(\"bad\",\"good\")"
   ]
  },
  {
   "cell_type": "markdown",
   "id": "97851703",
   "metadata": {},
   "source": [
    "## python program to check weather the string is palindrome or not"
   ]
  },
  {
   "cell_type": "code",
   "execution_count": 188,
   "id": "1e61e78d",
   "metadata": {},
   "outputs": [
    {
     "name": "stdout",
     "output_type": "stream",
     "text": [
      "given string is palindrome\n"
     ]
    }
   ],
   "source": [
    "my_string = \"MadaM\"\n",
    "\n",
    "#convert entire string to either lower or upper\n",
    "my_string = my_string.lower()\n",
    "\n",
    "#reverse string\n",
    "reverse_string = reversed(my_string)\n",
    "\n",
    "#check if the reversed string is palindrome\n",
    "if list(my_string) == list(reverse_string):\n",
    "    print(\"given string is palindrome\")\n",
    "else:\n",
    "    print(\"given string is not palindrome\")"
   ]
  },
  {
   "cell_type": "markdown",
   "id": "68b58801",
   "metadata": {},
   "source": [
    "## python programe to sort words in alphabetic order"
   ]
  },
  {
   "cell_type": "code",
   "execution_count": 189,
   "id": "acfac2cf",
   "metadata": {},
   "outputs": [
    {
     "name": "stdout",
     "output_type": "stream",
     "text": [
      "alphabetic\n",
      "in\n",
      "order\n",
      "programe\n",
      "python\n",
      "sort\n",
      "to\n",
      "words\n"
     ]
    }
   ],
   "source": [
    "my_string = \"python programe to sort words in alphabetic order\"\n",
    "\n",
    "#breakdown the string into list of words\n",
    "words = my_string.split()\n",
    "\n",
    "#sort the list\n",
    "words.sort()\n",
    "\n",
    "#print sorted words are\n",
    "for word in words:\n",
    "    print(word)"
   ]
  },
  {
   "cell_type": "markdown",
   "id": "f5307c73",
   "metadata": {},
   "source": [
    "## python functions"
   ]
  },
  {
   "cell_type": "code",
   "execution_count": 190,
   "id": "a0c71efe",
   "metadata": {},
   "outputs": [],
   "source": [
    "def print_name(name):\n",
    "    \"\"\"\n",
    "    this function prints the name \n",
    "    \"\"\"\n",
    "    print(\"hello \" + str(name))"
   ]
  },
  {
   "cell_type": "markdown",
   "id": "c564d3ba",
   "metadata": {},
   "source": [
    "## function call"
   ]
  },
  {
   "cell_type": "code",
   "execution_count": 191,
   "id": "4f788c9f",
   "metadata": {},
   "outputs": [
    {
     "name": "stdout",
     "output_type": "stream",
     "text": [
      "hello satish\n"
     ]
    }
   ],
   "source": [
    "print_name('satish')"
   ]
  },
  {
   "cell_type": "markdown",
   "id": "4ff5a142",
   "metadata": {},
   "source": [
    "## doc string\n",
    "\n",
    "the first string after the function header is called the docstring and is short for documentation string.\n",
    "\n",
    "although optional, documentation is a good programing practice, always document your code\n",
    "\n",
    "doc string will be written in triple quotes so that docstring can extend up to multiple lines"
   ]
  },
  {
   "cell_type": "code",
   "execution_count": 192,
   "id": "3832e879",
   "metadata": {},
   "outputs": [
    {
     "name": "stdout",
     "output_type": "stream",
     "text": [
      "\n",
      "    this function prints the name \n",
      "    \n"
     ]
    }
   ],
   "source": [
    "print(print_name.__doc__) #print doc string of the function"
   ]
  },
  {
   "cell_type": "markdown",
   "id": "16f2e718",
   "metadata": {},
   "source": [
    "## return statement\n",
    "\n",
    "- the return statement is used to exit a function and go back to the place where it was called.\n",
    "\n",
    "- if there is no expression in the statement or return statemnet itself is not present inside a function, rthen the function will return none object"
   ]
  },
  {
   "cell_type": "code",
   "execution_count": 193,
   "id": "1acc8a4a",
   "metadata": {},
   "outputs": [],
   "source": [
    "def get_sum(list):\n",
    "    \"\"\"\n",
    "    this function returns the sum of all the elements in alist\n",
    "    \"\"\"\n",
    "    \n",
    "    #initialize sum\n",
    "    _sum = 0\n",
    "    \n",
    "    #iterating over the list\n",
    "    for num in list:\n",
    "        _sum += num\n",
    "    return _sum"
   ]
  },
  {
   "cell_type": "code",
   "execution_count": 194,
   "id": "785c8514",
   "metadata": {},
   "outputs": [
    {
     "name": "stdout",
     "output_type": "stream",
     "text": [
      "45\n"
     ]
    }
   ],
   "source": [
    "s = get_sum([1,2,3,4,5,6,7,8,9])\n",
    "print(s)"
   ]
  },
  {
   "cell_type": "code",
   "execution_count": 195,
   "id": "fb5ba86d",
   "metadata": {},
   "outputs": [
    {
     "name": "stdout",
     "output_type": "stream",
     "text": [
      "\n",
      "    this function returns the sum of all the elements in alist\n",
      "    \n"
     ]
    }
   ],
   "source": [
    "# print doc string\n",
    "print(get_sum.__doc__)"
   ]
  },
  {
   "cell_type": "markdown",
   "id": "86cd9f2a",
   "metadata": {},
   "source": [
    "## scope and life time of variables"
   ]
  },
  {
   "cell_type": "code",
   "execution_count": 196,
   "id": "1a01854c",
   "metadata": {},
   "outputs": [
    {
     "name": "stdout",
     "output_type": "stream",
     "text": [
      "this is local variable\n",
      "this is global variable\n",
      "this is global variable\n"
     ]
    },
    {
     "ename": "NameError",
     "evalue": "name 'local_var' is not defined",
     "output_type": "error",
     "traceback": [
      "\u001b[1;31m---------------------------------------------------------------------------\u001b[0m",
      "\u001b[1;31mNameError\u001b[0m                                 Traceback (most recent call last)",
      "\u001b[1;32m~\\AppData\\Local\\Temp\\ipykernel_3632\\883688094.py\u001b[0m in \u001b[0;36m<module>\u001b[1;34m\u001b[0m\n\u001b[0;32m     16\u001b[0m \u001b[1;33m\u001b[0m\u001b[0m\n\u001b[0;32m     17\u001b[0m \u001b[1;31m#print local variable local_var\u001b[0m\u001b[1;33m\u001b[0m\u001b[1;33m\u001b[0m\u001b[0m\n\u001b[1;32m---> 18\u001b[1;33m \u001b[0mprint\u001b[0m\u001b[1;33m(\u001b[0m\u001b[0mlocal_var\u001b[0m\u001b[1;33m)\u001b[0m                   \u001b[1;31m#raises error because local variable is not defined out of the function body\u001b[0m\u001b[1;33m\u001b[0m\u001b[1;33m\u001b[0m\u001b[0m\n\u001b[0m",
      "\u001b[1;31mNameError\u001b[0m: name 'local_var' is not defined"
     ]
    }
   ],
   "source": [
    "global_var = \"this is global variable\"\n",
    "\n",
    "def test_life_time():\n",
    "    \"\"\"\n",
    "    this function test the life time of a variables\n",
    "    \"\"\"\n",
    "    local_var = \"this is local variable\"\n",
    "    print(local_var)  #print local variable local_var\n",
    "    print(global_var) #print global variable global_var\n",
    "    \n",
    "#calling function\n",
    "test_life_time()\n",
    "\n",
    "#print global variable global_var\n",
    "print(global_var)\n",
    "\n",
    "#print local variable local_var\n",
    "print(local_var)                   #raises error because local variable is not defined out of the function body"
   ]
  },
  {
   "cell_type": "markdown",
   "id": "12c48e82",
   "metadata": {},
   "source": [
    "## python programe to print HCF of two no."
   ]
  },
  {
   "cell_type": "code",
   "execution_count": 197,
   "id": "34466d09",
   "metadata": {},
   "outputs": [
    {
     "name": "stdout",
     "output_type": "stream",
     "text": [
      "HCF of 98 and 78 is: 2\n"
     ]
    }
   ],
   "source": [
    "def computeHCF(a,b):\n",
    "    \"\"\"\n",
    "    computing HCF of two no.\n",
    "    \"\"\"\n",
    "    \n",
    "    smaller = b if a>b else a #concise way of writing if else statement\n",
    "    \n",
    "    hcf = 1\n",
    "    for i in range(1,smaller+1):\n",
    "        if (a % i == 0) and (b % i ==0):\n",
    "            hcf = i\n",
    "    return hcf\n",
    "\n",
    "num1 = 98\n",
    "num2 = 78\n",
    "\n",
    "print(\"HCF of {} and {} is: {}\".format(num1,num2,computeHCF(num1,num2)))"
   ]
  },
  {
   "cell_type": "markdown",
   "id": "a3821ba4",
   "metadata": {},
   "source": [
    "## types of function\n",
    "\n",
    "- built-in function\n",
    "- user defined functions"
   ]
  },
  {
   "cell_type": "markdown",
   "id": "e2ac8827",
   "metadata": {},
   "source": [
    "## built-in functions"
   ]
  },
  {
   "cell_type": "markdown",
   "id": "24774bbb",
   "metadata": {},
   "source": [
    "## 1) abs()"
   ]
  },
  {
   "cell_type": "code",
   "execution_count": 198,
   "id": "bd4c8f8c",
   "metadata": {},
   "outputs": [
    {
     "name": "stdout",
     "output_type": "stream",
     "text": [
      "100\n"
     ]
    }
   ],
   "source": [
    "# find the absolute value\n",
    "\n",
    "num = -100\n",
    "print(abs(num))"
   ]
  },
  {
   "cell_type": "markdown",
   "id": "5dd1997c",
   "metadata": {},
   "source": [
    "## 2) all()\n",
    "\n",
    "- true: if all elements in an iterable are true\n",
    "- false: if any elements in an iterable is false"
   ]
  },
  {
   "cell_type": "code",
   "execution_count": 199,
   "id": "1cc79e4d",
   "metadata": {},
   "outputs": [
    {
     "name": "stdout",
     "output_type": "stream",
     "text": [
      "True\n"
     ]
    }
   ],
   "source": [
    "lst = [1,2,3,4]\n",
    "print(all(lst))"
   ]
  },
  {
   "cell_type": "code",
   "execution_count": 201,
   "id": "3057cedc",
   "metadata": {},
   "outputs": [
    {
     "name": "stdout",
     "output_type": "stream",
     "text": [
      "False\n"
     ]
    }
   ],
   "source": [
    "lst = (0,2,3,4) # 0 present in list\n",
    "print(all(lst))"
   ]
  },
  {
   "cell_type": "code",
   "execution_count": 202,
   "id": "2210914c",
   "metadata": {},
   "outputs": [
    {
     "name": "stdout",
     "output_type": "stream",
     "text": [
      "True\n"
     ]
    }
   ],
   "source": [
    "lst = []  #empty list always true\n",
    "print(all(lst))"
   ]
  },
  {
   "cell_type": "code",
   "execution_count": 203,
   "id": "2e74cd7c",
   "metadata": {},
   "outputs": [
    {
     "name": "stdout",
     "output_type": "stream",
     "text": [
      "False\n"
     ]
    }
   ],
   "source": [
    "lst = [False,1,2]  #false present in alist so all(lst) is False\n",
    "print(all(lst))"
   ]
  },
  {
   "cell_type": "markdown",
   "id": "efcfa49a",
   "metadata": {},
   "source": [
    "## dir()\n",
    "\n",
    "- the dir() tries to return a list of valid attributes of the object.\n",
    "- if the object has dir() method,the method will be called and must return the list of attributes.\n",
    "- if the object doesnt have dir() method, this method tries to find information from the dict attribute(if defined),and from type object. in this case, the list returned from dir() may not be complete."
   ]
  },
  {
   "cell_type": "code",
   "execution_count": 204,
   "id": "e69b8f4d",
   "metadata": {},
   "outputs": [
    {
     "name": "stdout",
     "output_type": "stream",
     "text": [
      "['__add__', '__class__', '__class_getitem__', '__contains__', '__delattr__', '__delitem__', '__dir__', '__doc__', '__eq__', '__format__', '__ge__', '__getattribute__', '__getitem__', '__gt__', '__hash__', '__iadd__', '__imul__', '__init__', '__init_subclass__', '__iter__', '__le__', '__len__', '__lt__', '__mul__', '__ne__', '__new__', '__reduce__', '__reduce_ex__', '__repr__', '__reversed__', '__rmul__', '__setattr__', '__setitem__', '__sizeof__', '__str__', '__subclasshook__', 'append', 'clear', 'copy', 'count', 'extend', 'index', 'insert', 'pop', 'remove', 'reverse', 'sort']\n"
     ]
    }
   ],
   "source": [
    "numbers = [1,2,3]\n",
    "print(dir(numbers))"
   ]
  },
  {
   "cell_type": "markdown",
   "id": "b1d97638",
   "metadata": {},
   "source": [
    "## divmod()\n",
    "\n",
    "- the divmod() method takesd two numbers and returns apair of numbers(a tuple) consisting of their quotient and reminder."
   ]
  },
  {
   "cell_type": "code",
   "execution_count": 205,
   "id": "6726b6c3",
   "metadata": {},
   "outputs": [
    {
     "name": "stdout",
     "output_type": "stream",
     "text": [
      "(4, 1)\n"
     ]
    }
   ],
   "source": [
    "print(divmod(9,2))  #print quotient and reminder as a tuple\n",
    "#try with other numbers"
   ]
  },
  {
   "cell_type": "markdown",
   "id": "27fac913",
   "metadata": {},
   "source": [
    "## enumarate()\n",
    "\n",
    "- the enumerate() method adds counter to an iterable and returns it\n",
    "\n",
    "- syntax: enumerate(iterable, start=0)"
   ]
  },
  {
   "cell_type": "code",
   "execution_count": 206,
   "id": "66cd607e",
   "metadata": {},
   "outputs": [
    {
     "name": "stdout",
     "output_type": "stream",
     "text": [
      "index 0 has value 10\n",
      "index 1 has value 20\n",
      "index 2 has value 30\n",
      "index 3 has value 40\n"
     ]
    }
   ],
   "source": [
    "numbers = [10,20,30,40]\n",
    "\n",
    "for index, num in enumerate(numbers):\n",
    "    print(\"index {0} has value {1}\".format(index,num))"
   ]
  },
  {
   "cell_type": "markdown",
   "id": "c8e56105",
   "metadata": {},
   "source": [
    "## filter()\n",
    "\n",
    "- the filter() method constructs an iterator from elements of an iterable for which a function returns true.\n",
    "\n",
    "- syntax: filter(function,iterable)"
   ]
  },
  {
   "cell_type": "code",
   "execution_count": 207,
   "id": "7f98904e",
   "metadata": {},
   "outputs": [],
   "source": [
    "def find_positive_number(num):\n",
    "    \"\"\"\n",
    "    this function returns positive number if num is positive\n",
    "    \"\"\"\n",
    "    if num > 0:\n",
    "        return num"
   ]
  },
  {
   "cell_type": "code",
   "execution_count": 208,
   "id": "05135a15",
   "metadata": {},
   "outputs": [
    {
     "name": "stdout",
     "output_type": "stream",
     "text": [
      "[-10, -9, -8, -7, -6, -5, -4, -3, -2, -1, 0, 1, 2, 3, 4, 5, 6, 7, 8, 9]\n",
      "[1, 2, 3, 4, 5, 6, 7, 8, 9]\n"
     ]
    }
   ],
   "source": [
    "number_list = range(-10,10) #create a list with numbers from -10 to 10\n",
    "print(list(number_list))\n",
    "\n",
    "positive_num_list = list(filter(find_positive_number,number_list))\n",
    "\n",
    "print(positive_num_list)"
   ]
  },
  {
   "cell_type": "markdown",
   "id": "7fa32b5f",
   "metadata": {},
   "source": [
    "## isinstance()\n",
    "\n",
    "- the instance() function checks if the object(first argument) is an instance or subclass of classinfo class(second argument).\n",
    "- syntax: isinstance(object,classinfo)"
   ]
  },
  {
   "cell_type": "code",
   "execution_count": 209,
   "id": "b0cb1ff4",
   "metadata": {},
   "outputs": [
    {
     "name": "stdout",
     "output_type": "stream",
     "text": [
      "True\n",
      "False\n"
     ]
    }
   ],
   "source": [
    "lst = [1,2,3,4]\n",
    "print(isinstance(lst,list))\n",
    "\n",
    "#try with other datatypes tuple, set\n",
    "t = (1,2,3,4)\n",
    "print(isinstance(t,list))"
   ]
  },
  {
   "cell_type": "markdown",
   "id": "91e10268",
   "metadata": {},
   "source": [
    "## map()\n",
    "\n",
    "- map() applies a function to all the items in an input_list.\n",
    "- syntax: map(function_to_apply, list_of_inputs)"
   ]
  },
  {
   "cell_type": "code",
   "execution_count": 210,
   "id": "2561af2d",
   "metadata": {},
   "outputs": [
    {
     "name": "stdout",
     "output_type": "stream",
     "text": [
      "[1, 4, 9, 16]\n"
     ]
    }
   ],
   "source": [
    "numbers =[1,2,3,4]\n",
    "\n",
    "#normal method of computing num^2 for each element in the list.\n",
    "squared=[]\n",
    "for num in numbers:\n",
    "    squared.append(num**2)\n",
    "print(squared)"
   ]
  },
  {
   "cell_type": "code",
   "execution_count": 211,
   "id": "2e8845e7",
   "metadata": {},
   "outputs": [
    {
     "name": "stdout",
     "output_type": "stream",
     "text": [
      "[1, 4, 9, 16]\n"
     ]
    }
   ],
   "source": [
    "numbers = [1,2,3,4]\n",
    "\n",
    "def power_of_two(num):\n",
    "    return num**2\n",
    "\n",
    "#using map() function\n",
    "squared = list(map(power_of_two,numbers))\n",
    "print(squared)"
   ]
  },
  {
   "cell_type": "markdown",
   "id": "ad8e8710",
   "metadata": {},
   "source": [
    "## reduce()\n",
    "\n",
    "- reduce() function is for performing some computation on a list and return the result.\n",
    "- it applies a rolling computation to sequential pairs of values in a list."
   ]
  },
  {
   "cell_type": "code",
   "execution_count": 212,
   "id": "076f989e",
   "metadata": {},
   "outputs": [
    {
     "name": "stdout",
     "output_type": "stream",
     "text": [
      "24\n"
     ]
    }
   ],
   "source": [
    "#product of elements in a list\n",
    "product = 1\n",
    "lst = [1,2,3,4]\n",
    "\n",
    "#traditional program without reduce()\n",
    "\n",
    "for num in lst:\n",
    "    product *= num\n",
    "print(product)"
   ]
  },
  {
   "cell_type": "code",
   "execution_count": 214,
   "id": "f73f1375",
   "metadata": {},
   "outputs": [
    {
     "name": "stdout",
     "output_type": "stream",
     "text": [
      "24\n"
     ]
    }
   ],
   "source": [
    "# with reduce()\n",
    "from functools import reduce # in python 3.\n",
    "\n",
    "def multiply(x,y):\n",
    "    return x*y;\n",
    "\n",
    "product = reduce(multiply,lst)\n",
    "print(product)"
   ]
  },
  {
   "cell_type": "markdown",
   "id": "3429c1e2",
   "metadata": {},
   "source": [
    "## function arguments"
   ]
  },
  {
   "cell_type": "code",
   "execution_count": 1,
   "id": "cf798024",
   "metadata": {},
   "outputs": [
    {
     "name": "stdout",
     "output_type": "stream",
     "text": [
      "hello satish,good morning\n"
     ]
    }
   ],
   "source": [
    "def greet(name,msg):\n",
    "    \"\"\"\n",
    "    this function greets to the person with the provided message\n",
    "    \"\"\"\n",
    "    print(\"hello {0},{1}\".format(name,msg))\n",
    "    \n",
    "#call the function with arguments\n",
    "greet(\"satish\",\"good morning\")"
   ]
  },
  {
   "cell_type": "code",
   "execution_count": 2,
   "id": "dda092b1",
   "metadata": {},
   "outputs": [
    {
     "ename": "TypeError",
     "evalue": "greet() missing 1 required positional argument: 'msg'",
     "output_type": "error",
     "traceback": [
      "\u001b[1;31m---------------------------------------------------------------------------\u001b[0m",
      "\u001b[1;31mTypeError\u001b[0m                                 Traceback (most recent call last)",
      "\u001b[1;32m~\\AppData\\Local\\Temp\\ipykernel_9072\\3003314391.py\u001b[0m in \u001b[0;36m<module>\u001b[1;34m\u001b[0m\n\u001b[0;32m      1\u001b[0m \u001b[1;31m#suppose if we pass one argument\u001b[0m\u001b[1;33m\u001b[0m\u001b[1;33m\u001b[0m\u001b[0m\n\u001b[1;32m----> 2\u001b[1;33m \u001b[0mgreet\u001b[0m\u001b[1;33m(\u001b[0m\u001b[1;34m\"satish\"\u001b[0m\u001b[1;33m)\u001b[0m \u001b[1;31m#will get an error\u001b[0m\u001b[1;33m\u001b[0m\u001b[1;33m\u001b[0m\u001b[0m\n\u001b[0m",
      "\u001b[1;31mTypeError\u001b[0m: greet() missing 1 required positional argument: 'msg'"
     ]
    }
   ],
   "source": [
    "#suppose if we pass one argument\n",
    "greet(\"satish\") #will get an error"
   ]
  },
  {
   "cell_type": "markdown",
   "id": "e9cc1cc4",
   "metadata": {},
   "source": [
    "## different form of arguments\n",
    "\n",
    "## 1) default arguments"
   ]
  },
  {
   "cell_type": "code",
   "execution_count": 4,
   "id": "6a5ea271",
   "metadata": {},
   "outputs": [
    {
     "name": "stdout",
     "output_type": "stream",
     "text": [
      "hello satish,good night\n"
     ]
    }
   ],
   "source": [
    "def greet(name,msg=\"good morning\"):\n",
    "    \"\"\"\n",
    "    this function greets to person with the provided message\n",
    "    if message is not provided, it defaults to \"good morning\"\n",
    "    \"\"\"\n",
    "    print(\"hello {0},{1}\".format(name,msg))\n",
    "\n",
    "greet(\"satish\",\"good night\")"
   ]
  },
  {
   "cell_type": "code",
   "execution_count": 5,
   "id": "0e1fd5a9",
   "metadata": {},
   "outputs": [
    {
     "name": "stdout",
     "output_type": "stream",
     "text": [
      "hello satish,good morning\n"
     ]
    }
   ],
   "source": [
    "#without msg argument\n",
    "greet(\"satish\")"
   ]
  },
  {
   "cell_type": "markdown",
   "id": "f5e76e8d",
   "metadata": {},
   "source": [
    "## 2)keyword arguments\n",
    "\n",
    "- kwargs allows you to pass keyworded variable length of arguments to a function. you should use **kwargs if you want to handle named arguments in a function."
   ]
  },
  {
   "cell_type": "code",
   "execution_count": 6,
   "id": "d0c6c59f",
   "metadata": {},
   "outputs": [
    {
     "name": "stdout",
     "output_type": "stream",
     "text": [
      "hello satish,good morning\n"
     ]
    }
   ],
   "source": [
    "def greet(**kwargs):\n",
    "    \"\"\"\n",
    "    this function greets to person with the provided message\n",
    "    \"\"\"\n",
    "    if kwargs:\n",
    "        print(\"hello {0},{1}\".format(kwargs['name'],kwargs['msg']))\n",
    "        \n",
    "greet(name=\"satish\",msg=\"good morning\")"
   ]
  },
  {
   "cell_type": "markdown",
   "id": "b2aa38a3",
   "metadata": {},
   "source": [
    "## 3) arbitary arguments\n",
    "\n",
    "- sometimes, we do not know in advance the number of arguments that will be passed into a function. python allows us to handle this kind of situation through function calls with arbitary number of arguments."
   ]
  },
  {
   "cell_type": "code",
   "execution_count": 7,
   "id": "17575b6d",
   "metadata": {},
   "outputs": [
    {
     "name": "stdout",
     "output_type": "stream",
     "text": [
      "('satish', 'murli', 'naveen', 'srikanth')\n",
      "hello,satish\n",
      "hello,murli\n",
      "hello,naveen\n",
      "hello,srikanth\n"
     ]
    }
   ],
   "source": [
    "def greet(*names):\n",
    "    \"\"\"\n",
    "    this function greets all persons in the name tuple\n",
    "    \"\"\"\n",
    "    print(names)\n",
    "    for name in names:\n",
    "        print(\"hello,{0}\".format(name))\n",
    "        \n",
    "greet(\"satish\",\"murli\",\"naveen\",\"srikanth\")"
   ]
  },
  {
   "cell_type": "markdown",
   "id": "786edf50",
   "metadata": {},
   "source": [
    "## recursive function"
   ]
  },
  {
   "cell_type": "code",
   "execution_count": 8,
   "id": "cc8a0008",
   "metadata": {},
   "outputs": [
    {
     "name": "stdout",
     "output_type": "stream",
     "text": [
      "factorial of 5 is 120\n"
     ]
    }
   ],
   "source": [
    "# python program to print factorial of a number using recussion\n",
    "\n",
    "def factorial(num):\n",
    "    \"\"\"\n",
    "    this is recursive function to find the factorial of a given number\n",
    "    \"\"\"\n",
    "    \n",
    "    return 1 if num == 1 else (num*factorial(num-1))\n",
    "\n",
    "num=5\n",
    "print(\"factorial of {0} is {1}\".format(num,factorial(num)))"
   ]
  },
  {
   "cell_type": "markdown",
   "id": "cb4e8b53",
   "metadata": {},
   "source": [
    "## python programe to display the fibonacci sequence"
   ]
  },
  {
   "cell_type": "code",
   "execution_count": 10,
   "id": "8e393aaf",
   "metadata": {},
   "outputs": [
    {
     "name": "stdout",
     "output_type": "stream",
     "text": [
      "fibonacci sequence for n=5 terms\n",
      "0\n",
      "1\n",
      "1\n",
      "2\n",
      "3\n",
      "5\n",
      "8\n",
      "13\n",
      "21\n",
      "34\n"
     ]
    }
   ],
   "source": [
    "def fibonacci(num):\n",
    "    \"\"\"\n",
    "    recursive function to print fibonacci sequence\n",
    "    \"\"\"\n",
    "    return num if num <= 1 else fibonacci(num-1)+fibonacci(num-2)\n",
    "\n",
    "nterms=10\n",
    "print(\"fibonacci sequence for n={} terms\".format(num))\n",
    "for num in range(nterms):\n",
    "    print(fibonacci(num))"
   ]
  },
  {
   "cell_type": "markdown",
   "id": "612203c1",
   "metadata": {},
   "source": [
    "## anonymous/lambda function\n",
    "\n",
    "- in python, anonymous function is a function that is defined without a name.\n",
    "- while normal functions are defined using the def keyword, in python anonymous functions are defined using the lambda keyword.\n",
    "- lambda functions are used extensively along with built-in functions like filter(),map(),\n",
    "\n",
    "syntax:\n",
    "       lambda arguments:expression"
   ]
  },
  {
   "cell_type": "code",
   "execution_count": 13,
   "id": "7344623d",
   "metadata": {},
   "outputs": [
    {
     "name": "stdout",
     "output_type": "stream",
     "text": [
      "10\n"
     ]
    }
   ],
   "source": [
    "double=lambda x: x*2\n",
    "#double=function name\n",
    "#x:x*2 = arg:expression\n",
    "print(double(5))"
   ]
  },
  {
   "cell_type": "code",
   "execution_count": 12,
   "id": "dbfa98de",
   "metadata": {},
   "outputs": [
    {
     "name": "stdout",
     "output_type": "stream",
     "text": [
      "10\n"
     ]
    }
   ],
   "source": [
    "def double(x):\n",
    "    return x*2\n",
    "\n",
    "print(double(5))"
   ]
  },
  {
   "cell_type": "code",
   "execution_count": 14,
   "id": "9c41189d",
   "metadata": {},
   "outputs": [
    {
     "name": "stdout",
     "output_type": "stream",
     "text": [
      "[2, 4]\n"
     ]
    }
   ],
   "source": [
    "#example use with filter()\n",
    "\n",
    "lst=[1,2,3,4,5]\n",
    "even_lst=list(filter(lambda x:(x%2==0),lst))\n",
    "print(even_lst)"
   ]
  },
  {
   "cell_type": "code",
   "execution_count": 15,
   "id": "fac6ee34",
   "metadata": {},
   "outputs": [
    {
     "name": "stdout",
     "output_type": "stream",
     "text": [
      "[1, 4, 9, 16, 25]\n"
     ]
    }
   ],
   "source": [
    "#example use with map()\n",
    "lst=[1,2,3,4,5]\n",
    "new_lst=list(map(lambda x:x**2,lst))\n",
    "print(new_lst)"
   ]
  },
  {
   "cell_type": "code",
   "execution_count": 16,
   "id": "e88ca736",
   "metadata": {},
   "outputs": [
    {
     "name": "stdout",
     "output_type": "stream",
     "text": [
      "120\n"
     ]
    }
   ],
   "source": [
    "#example use with reduce()\n",
    "from functools import reduce\n",
    "\n",
    "lst=[1,2,3,4,5]\n",
    "list_product = reduce(lambda x,y:x*y,lst)\n",
    "print(list_product)"
   ]
  },
  {
   "cell_type": "code",
   "execution_count": null,
   "id": "a4b0df53",
   "metadata": {},
   "outputs": [],
   "source": []
  }
 ],
 "metadata": {
  "kernelspec": {
   "display_name": "Python 3 (ipykernel)",
   "language": "python",
   "name": "python3"
  },
  "language_info": {
   "codemirror_mode": {
    "name": "ipython",
    "version": 3
   },
   "file_extension": ".py",
   "mimetype": "text/x-python",
   "name": "python",
   "nbconvert_exporter": "python",
   "pygments_lexer": "ipython3",
   "version": "3.9.13"
  }
 },
 "nbformat": 4,
 "nbformat_minor": 5
}
